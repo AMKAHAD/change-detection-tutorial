{
 "metadata": {
  "name": ""
 },
 "nbformat": 3,
 "nbformat_minor": 0,
 "worksheets": [
  {
   "cells": [
    {
     "cell_type": "code",
     "collapsed": false,
     "input": [
      "# Modified Stylesheet for notebook.\n",
      "from IPython.core.display import HTML\n",
      "def css_styling():\n",
      "    styles = open(\"custom.css\", \"r\").read()\n",
      "    return HTML(styles)\n",
      "\n",
      "css_styling()"
     ],
     "language": "python",
     "metadata": {},
     "outputs": [
      {
       "html": [
        "<style>    div.cell{        max-width:750px;        margin-left:auto;        margin-right:auto;    }    h1 {        text-align:center;        font-familly:\"Charis SIL\", serif;    }</style>\n"
       ],
       "metadata": {},
       "output_type": "pyout",
       "prompt_number": 1,
       "text": [
        "<IPython.core.display.HTML at 0x3ccd290>"
       ]
      }
     ],
     "prompt_number": 1
    },
    {
     "cell_type": "markdown",
     "metadata": {},
     "source": [
      "#Change Detection Tutorial\n",
      "##Section 01: Starting Simple\n",
      "\n",
      "\n",
      "Lesson Plan\n",
      "\n",
      "* Section 01\n",
      "\n",
      " * A trivial signal\n",
      "  * Signal 1\n",
      " * A \"static mean\" change detector\n",
      "   * Recent (amplitude) vs global (mean) detector \n",
      " * Framing the problem and some utility code  #maybe move this to an appendix?\n"
     ]
    },
    {
     "cell_type": "code",
     "collapsed": false,
     "input": [
      "%matplotlib\n",
      "import matplotlib.pyplot as plt\n",
      "import numpy as np"
     ],
     "language": "python",
     "metadata": {},
     "outputs": [
      {
       "output_type": "stream",
       "stream": "stdout",
       "text": [
        "Using matplotlib backend: module://IPython.kernel.zmq.pylab.backend_inline\n"
       ]
      }
     ],
     "prompt_number": 2
    },
    {
     "cell_type": "code",
     "collapsed": false,
     "input": [
      "from collections import defaultdict\n",
      "np.random.seed(seed=111111)\n",
      "np.set_printoptions(precision=3, suppress=True)"
     ],
     "language": "python",
     "metadata": {},
     "outputs": [],
     "prompt_number": 3
    },
    {
     "cell_type": "markdown",
     "metadata": {},
     "source": [
      "### Recap\n",
      "\n",
      "So far, we have\n",
      "\n",
      " * discussed what online algorithm is\n",
      " * written some utility code to simulate an online algorithm\n",
      " \n",
      "\n",
      "We'll import that utility code so we can use it:\n",
      " "
     ]
    },
    {
     "cell_type": "code",
     "collapsed": false,
     "input": [
      "%run -n ../saved/scaffolding"
     ],
     "language": "python",
     "metadata": {},
     "outputs": [
      {
       "output_type": "stream",
       "stream": "stdout",
       "text": [
        "Using matplotlib backend: module://IPython.kernel.zmq.pylab.backend_inline\n",
        "NAME: : scaffolding\n"
       ]
      }
     ],
     "prompt_number": 5
    },
    {
     "cell_type": "markdown",
     "metadata": {},
     "source": [
      "## Finally, let's start experimenting\n",
      "\n",
      "Now what we got all that scaffolding, we can get to the good stuff and start experimenting with signals and change detectors. "
     ]
    },
    {
     "cell_type": "markdown",
     "metadata": {},
     "source": [
      "Here's the signal we looked at last time"
     ]
    },
    {
     "cell_type": "code",
     "collapsed": false,
     "input": [
      "sig1 = np.ones(1000)\n",
      "sig1[:500] = sig1[:500] * 50\n",
      "sig1[500:] = sig1[500:] * 40\n",
      "\n",
      "plot(sig1)\n",
      "ylim(0,100)\n",
      "title(\"sig1\")"
     ],
     "language": "python",
     "metadata": {},
     "outputs": [
      {
       "metadata": {},
       "output_type": "pyout",
       "prompt_number": 10,
       "text": [
        "<matplotlib.text.Text at 0x3d8ed10>"
       ]
      },
      {
       "metadata": {},
       "output_type": "display_data",
       "png": "[encoded data removed]",
       "text": [
        "<matplotlib.figure.Figure at 0x3cd1810>"
       ]
      }
     ],
     "prompt_number": 10
    },
    {
     "cell_type": "markdown",
     "metadata": {},
     "source": [
      "##1b. Static mean detector. \n",
      "\n",
      "We can upgrade our \"basic\" cd_algorithm with actual functionality. \n",
      "\n",
      "What we'll do is collect the mean, and create a stopping rules based on if the actual value differs from the mean by more than some %. "
     ]
    },
    {
     "cell_type": "code",
     "collapsed": false,
     "input": [
      "class cd_static_mean_detector(change_detector):\n",
      "    \"\"\"\n",
      "    A change detection algorithm. \n",
      "    \n",
      "    The algorithm calculates residuals and updates them for each new value passed. \n",
      "    Residuals are checked against stopping rules at each change, yielding either True or False, accordingly. \n",
      "    \n",
      "    \"\"\"\n",
      "    \n",
      "    def __init__(self, threshold=0.05): \n",
      "        #hyper-parameter(s)\n",
      "        self.threshold = threshold\n",
      "            \n",
      "        #Interim and calculated values\n",
      "        self.signal_size = 0\n",
      "        self.total_val = 0\n",
      "        \n",
      "        #... and residuals\n",
      "        self.diff_ = np.nan #np.zeros(1)\n",
      "        self.mean_ = np.nan #np.zeros(1)\n",
      "    \n",
      "    def update_residuals(self, new_signal_value): \n",
      "        #Update residuals \n",
      "        self.signal_size += 1\n",
      "        self.total_val += new_signal_value\n",
      "        self.mean_ = self.total_val / self.signal_size\n",
      "        self.diff_ = np.absolute(self.mean_ - new_signal_value)\n",
      "    \n",
      "    def check_stopping_rules(self, new_signal_value): \n",
      "        rules_triggered = False\n",
      "        #check if new value is more than % different from mean\n",
      "        threshold_level = self.mean_ * self.threshold\n",
      "        \n",
      "        if self.diff_ > threshold_level:\n",
      "            #import pdb; pdb.set_trace();\n",
      "            rules_triggered = True\n",
      "        return rules_triggered\n",
      "          \n",
      "    def step(self, new_signal_value):\n",
      "        return self._step(new_signal_value)"
     ],
     "language": "python",
     "metadata": {},
     "outputs": [],
     "prompt_number": 11
    },
    {
     "cell_type": "code",
     "collapsed": false,
     "input": [
      "\"\"\"\n",
      "Save static mean detector class to file for future access\n",
      "\"\"\"\n",
      "%save -f ../saved/static_mean_detector.py _i"
     ],
     "language": "python",
     "metadata": {},
     "outputs": [
      {
       "output_type": "stream",
       "stream": "stdout",
       "text": [
        "The following commands were written to file `../saved/static_mean_detector.py`:\n",
        "class cd_static_mean_detector(change_detector):\n",
        "    \"\"\"\n",
        "    A change detection algorithm. \n",
        "    \n",
        "    The algorithm calculates residuals and updates them for each new value passed. \n",
        "    Residuals are checked against stopping rules at each change, yielding either True or False, accordingly. \n",
        "    \n",
        "    \"\"\"\n",
        "    \n",
        "    def __init__(self, threshold=0.05): \n",
        "        #hyper-parameter(s)\n",
        "        self.threshold = threshold\n",
        "            \n",
        "        #Interim and calculated values\n",
        "        self.signal_size = 0\n",
        "        self.total_val = 0\n",
        "        \n",
        "        #... and residuals\n",
        "        self.diff_ = np.nan #np.zeros(1)\n",
        "        self.mean_ = np.nan #np.zeros(1)\n",
        "    \n",
        "    def update_residuals(self, new_signal_value): \n",
        "        #Update residuals \n",
        "        self.signal_size += 1\n",
        "        self.total_val += new_signal_value\n",
        "        self.mean_ = self.total_val / self.signal_size\n",
        "        self.diff_ = np.absolute(self.mean_ - new_signal_value)\n",
        "    \n",
        "    def check_stopping_rules(self, new_signal_value): \n",
        "        rules_triggered = False\n",
        "        #check if new value is more than % different from mean\n",
        "        threshold_level = self.mean_ * self.threshold\n",
        "        \n",
        "        if self.diff_ > threshold_level:\n",
        "            #import pdb; pdb.set_trace();\n",
        "            rules_triggered = True\n",
        "        return rules_triggered\n",
        "          \n",
        "    def step(self, new_signal_value):\n",
        "        return self._step(new_signal_value)\n"
       ]
      }
     ],
     "prompt_number": 12
    },
    {
     "cell_type": "code",
     "collapsed": false,
     "input": [
      "#Create detector\n",
      "static_mean_detector = cd_static_mean_detector(threshold=0.05)\n",
      "\n",
      "residuals = run_online_simulation(sig1, static_mean_detector)"
     ],
     "language": "python",
     "metadata": {},
     "outputs": [
      {
       "output_type": "stream",
       "stream": "stdout",
       "text": [
        "Residuals: ['mean_', 'diff_']\n",
        "Change detected. Stopping Rule triggered at 501.\n",
        "\n"
       ]
      },
      {
       "metadata": {},
       "output_type": "display_data",
       "png": "[encoded data removed]",
       "text": [
        "<matplotlib.figure.Figure at 0x3df0890>"
       ]
      }
     ],
     "prompt_number": 13
    },
    {
     "cell_type": "raw",
     "metadata": {},
     "source": [
      "Now we have a residual `diff`, which is just the difference between the latest signal value and the mean. We also have a stopping rule triggered if `diff` is greater than a manually provided threshold value. \n",
      "\n",
      "While this worked for our basic signal, this change detector is very weak. In particular, the algorithm is very sensitive to the threshold value, which must be determined manually. \n",
      "\n",
      " * if the threshold is too small, the stopping rule will be triggered by insignificant changes in the signal, such as noise. \n",
      " * if the threshold is too large, it will fail to trigger on important but smaller changes. \n",
      "\n",
      "The next signal will illustrate these weaknesses. "
     ]
    },
    {
     "cell_type": "code",
     "collapsed": false,
     "input": [
      "#Note: Easily accomodates a scaling of sig1 \n",
      "#  as the threshold is given as a percentage.\n",
      "\n",
      "run_online_simulation(\n",
      "    sig1*100,              #scale!\n",
      "    cd_static_mean_detector(threshold=0.05), \n",
      "    );"
     ],
     "language": "python",
     "metadata": {},
     "outputs": [
      {
       "output_type": "stream",
       "stream": "stdout",
       "text": [
        "Residuals: ['mean_', 'diff_']\n",
        "Change detected. Stopping Rule triggered at 501.\n",
        "\n"
       ]
      },
      {
       "metadata": {},
       "output_type": "display_data",
       "png": "[encoded data removed]",
       "text": [
        "<matplotlib.figure.Figure at 0x3df0650>"
       ]
      }
     ],
     "prompt_number": 14
    },
    {
     "cell_type": "code",
     "collapsed": false,
     "input": [],
     "language": "python",
     "metadata": {},
     "outputs": []
    }
   ],
   "metadata": {}
  }
 ]
}