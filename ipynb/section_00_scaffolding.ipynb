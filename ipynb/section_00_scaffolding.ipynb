{
 "metadata": {
  "name": "",
  "signature": "sha256:c8a7f0e538c8728d172cdf8cb6494649d7df2b67a3249bdb38a28ee54b71a671"
 },
 "nbformat": 3,
 "nbformat_minor": 0,
 "worksheets": [
  {
   "cells": [
    {
     "cell_type": "markdown",
     "metadata": {},
     "source": [
      "# Change Detection Tutorial\n",
      "\n",
      "    @author: amanahuja@gmail.com\n",
      "    source: github.com/amanahuja/change-detection-turtorial\n"
     ]
    },
    {
     "cell_type": "code",
     "collapsed": false,
     "input": [
      "# Modified Stylesheet for notebook.\n",
      "from IPython.core.display import HTML\n",
      "def css_styling():\n",
      "    styles = open(\"custom.css\", \"r\").read()\n",
      "    return HTML(styles)\n",
      "\n",
      "css_styling()"
     ],
     "language": "python",
     "metadata": {},
     "outputs": [
      {
       "html": [
        "<style>    div.cell{        max-width:750px;        margin-left:auto;        margin-right:auto;    }    h1 {        text-align:center;        font-familly:\"Charis SIL\", serif;    }</style>\n"
       ],
       "metadata": {},
       "output_type": "pyout",
       "prompt_number": 8,
       "text": [
        "<IPython.core.display.HTML at 0x2ef2b90>"
       ]
      }
     ],
     "prompt_number": 8
    },
    {
     "cell_type": "markdown",
     "metadata": {},
     "source": [
      "## Section 0: Some Scaffolding\n",
      "\n",
      "Overview\n",
      "\n",
      " * Offline vs. Online change detection\n",
      " * We write some utility functions that allow us to \n",
      "  * pass signals to a change detection algorithm in \"online\" simulation mode\n",
      "  * calculate residuals after receiving each new data point\n",
      "  * Test the stopping rules at each iteration\n",
      "  * Plot results and output conveniently.\n"
     ]
    },
    {
     "cell_type": "markdown",
     "metadata": {},
     "source": [
      "### Aside: Offline vs. Online algorithms\n",
      "\n",
      "An \"offline\" change detection algorithm is one in which we are given the entire signal and are attempting to \"look back\" and recognize where the change occcured. \n",
      "\n",
      "An \"online\" algorithm is quite different, in which we imagine our signal as \"streaming into\" our detector, and at any given moment we only have knowledge of the most recent data point and whatever information the detector has retain about the signal. See wikipedia on Sequential Analysis http://en.wikipedia.org/wiki/Sequential_analysis\n",
      "\n",
      "My interest is in the latter \"online\" class of algorithms. That means I want to make sure data points are passed to the algorithm one by one, and that I am interested in \n",
      "\n",
      "  1. detecting a change, \n",
      "  2. in deciding whether a change is significant enough to trigger an alert, and \n",
      "  3. in how quickly I can detect the change after it occurs. \n",
      "\n",
      "I also want to make sure that I am not cheating when I run my experiments. \n",
      "\n",
      "To do all this, it is helpful to write some code that helps me simulate the online streaming scenario of interest. "
     ]
    },
    {
     "cell_type": "code",
     "collapsed": false,
     "input": [
      "import matplotlib.pyplot as plt\n",
      "import numpy as np"
     ],
     "language": "python",
     "metadata": {},
     "outputs": [],
     "prompt_number": 9
    },
    {
     "cell_type": "code",
     "collapsed": false,
     "input": [
      "from collections import defaultdict\n",
      "np.random.seed(seed=111111)\n",
      "np.set_printoptions(precision=3, suppress=True)"
     ],
     "language": "python",
     "metadata": {},
     "outputs": [],
     "prompt_number": 10
    },
    {
     "cell_type": "markdown",
     "metadata": {},
     "source": [
      "## ... thus we need some \"scaffolding\"\n",
      "\n",
      "This notebook is an optional part of the tutorial, in which we create a class and some methods in order to \"simulate\" streaming data. \n",
      "\n",
      "The scenario that we are simulating: \n",
      "\n",
      " * each data point is passed to the algorithm one by one\n",
      " * the algorithm performs its analysis on that new information along with any stored historical information\n",
      " * the algorithm decides after each data point whether or not a change has been detected. \n",
      "\n",
      "With these tools, which we will utilize in the tutorial, we can experiment with online algorithms and, more specifically, online change detection algorithms. "
     ]
    },
    {
     "cell_type": "markdown",
     "metadata": {},
     "source": [
      "## Pseudocode\n",
      "\n",
      "Thinking this through, here's what I came up with, in pseudocode"
     ]
    },
    {
     "cell_type": "raw",
     "metadata": {},
     "source": [
      "An online simulation function might look something like this: \n",
      "----------------------\n",
      "(pseudocode)\n",
      "\n",
      "function online_simulator(signal, cd_algorithm, stopping rules): \n",
      "  \n",
      "  Iterate through the signal, passing data points to the algorithm. FOR EACH data point\n",
      "    Calculate residuals\n",
      "    Compare residuals with the stopping rule(s)\n",
      "    IF the stopping rule is triggered\n",
      "      RETURN (True, residuals, stopping_rule_triggered)\n",
      "\n",
      "  At the end of the signal, IF the stopping rule is not triggered\n",
      "     THEN return (False, residuals)\n"
     ]
    },
    {
     "cell_type": "raw",
     "metadata": {},
     "source": [
      "What about the change detection algorithm, what does that look like? \n",
      "\n",
      "Essentially the algorithm is just calculating residuals and updating them for each new value passed. \n",
      "-------------------------\n",
      "(pseudocode)\n",
      "\n",
      "class cd_algorithm:\n",
      "   Initialization\n",
      "      initialize residuals\n",
      "\n",
      "   METHOD step FOR EACH new_signal_value\n",
      "      Update residuals\n",
      "      Check if Stopping Rules have been triggered\n",
      "      IF rules_triggered\n",
      "        RETURN (True, residuals, signal_size, stopping_rule_triggered)\n",
      "      \n",
      "----\n",
      "actually we'll make that step method into a generator, so we can yield values for each new value of the signal."
     ]
    },
    {
     "cell_type": "markdown",
     "metadata": {},
     "source": [
      "## Let's see how this works\n",
      "\n",
      "The above concepts have been implemented in this repo \n",
      "  src/change_detector.py"
     ]
    },
    {
     "cell_type": "code",
     "collapsed": false,
     "input": [
      "import sys; sys.path.append('../src/')\n",
      "import change_detector  # change this once we don't need reload()"
     ],
     "language": "python",
     "metadata": {},
     "outputs": [],
     "prompt_number": 11
    },
    {
     "cell_type": "code",
     "collapsed": false,
     "input": [
      "reload(change_detector)\n",
      "from change_detector import ChangeDetector"
     ],
     "language": "python",
     "metadata": {},
     "outputs": [],
     "prompt_number": 19
    },
    {
     "cell_type": "code",
     "collapsed": false,
     "input": [
      "# Initialize change detector\n",
      "\n",
      "test_detector = ChangeDetector()\n",
      "print test_detector"
     ],
     "language": "python",
     "metadata": {},
     "outputs": [
      {
       "output_type": "stream",
       "stream": "stdout",
       "text": [
        "Change Detector(triggered=False, residuals={'mean_': nan})\n"
       ]
      }
     ],
     "prompt_number": 20
    },
    {
     "cell_type": "code",
     "collapsed": false,
     "input": [
      "# Add one point to the change_detector\n",
      "print next(test_detector.step(10))\n",
      "\n",
      "#And more\n",
      "print next(test_detector.step(10))\n",
      "print next(test_detector.step(0))\n",
      "print next(test_detector.step(0))"
     ],
     "language": "python",
     "metadata": {},
     "outputs": [
      {
       "output_type": "stream",
       "stream": "stdout",
       "text": [
        "{'mean_': 10}\n",
        "{'mean_': 10}\n",
        "{'mean_': 7}\n",
        "{'mean_': 6}\n"
       ]
      }
     ],
     "prompt_number": 22
    },
    {
     "cell_type": "code",
     "collapsed": false,
     "input": [
      "# When we send a signal to our online_simulator we are \n",
      "#   actually stepping through the new points one by one. \n",
      "\n",
      "signal = np.random.randint(10, size=10)\n",
      "print \"Signal: {}\".format(signal)\n",
      "\n",
      "# reset\n",
      "test_detector = change_detector.ChangeDetector()\n",
      "\n",
      "# pass the signal the online_simulator\n",
      "test_detector.run(signal)"
     ],
     "language": "python",
     "metadata": {},
     "outputs": [
      {
       "output_type": "stream",
       "stream": "stdout",
       "text": [
        "Signal: [9 7 7 5 2 3 4 4 0 1]\n",
        "Residuals: ['mean_']\n",
        "Stopping rule not triggered.\n"
       ]
      },
      {
       "metadata": {},
       "output_type": "pyout",
       "prompt_number": 23,
       "text": [
        "False"
       ]
      },
      {
       "metadata": {},
       "output_type": "display_data",
       "png": "[encoded data removed]",
       "text": [
        "<matplotlib.figure.Figure at 0x2fe7890>"
       ]
      }
     ],
     "prompt_number": 23
    },
    {
     "cell_type": "raw",
     "metadata": {},
     "source": [
      "(Note that the stopping rule will not be triggered, because we haven't created a stopping rule yet.)"
     ]
    },
    {
     "cell_type": "markdown",
     "metadata": {},
     "source": [
      "In the above plots we can see ALL the signal values and the residual at each step. But this is just for visualization purposes. These are not retained by the change detector. \n",
      "\n",
      "This is what is retained: "
     ]
    },
    {
     "cell_type": "code",
     "collapsed": false,
     "input": [
      "print \"This is what is retained:\"\n",
      "\n",
      "print \"\\nResiduals:\"\n",
      "print test_detector.residuals_\n",
      "\n",
      "print \"\\nEverything:\"\n",
      "print test_detector.__dict__"
     ],
     "language": "python",
     "metadata": {},
     "outputs": [
      {
       "output_type": "stream",
       "stream": "stdout",
       "text": [
        "This is what is retained:\n",
        "\n",
        "Residuals:\n",
        "{'mean_': 4}\n",
        "\n",
        "Everything:\n",
        "{'rules_triggered': False, 'signal_size': 10, 'mean_': 4, 'total_val': 42}\n"
       ]
      }
     ],
     "prompt_number": 24
    },
    {
     "cell_type": "markdown",
     "metadata": {},
     "source": [
      "## Demo with blank change detector"
     ]
    },
    {
     "cell_type": "code",
     "collapsed": false,
     "input": [
      "from change_detector import ChangeDetector"
     ],
     "language": "python",
     "metadata": {},
     "outputs": [],
     "prompt_number": 25
    },
    {
     "cell_type": "code",
     "collapsed": false,
     "input": [
      "\"\"\"\n",
      "Uncomment the following code to output the demo.\n",
      "\"\"\"\n",
      "\n",
      "sig1 = np.ones(150)\n",
      "sig1[:100] *= 50\n",
      "sig1[100:] *= 4\n",
      "\n",
      "blank_detector = ChangeDetector()\n",
      "blank_detector.run(sig1)\n"
     ],
     "language": "python",
     "metadata": {},
     "outputs": [
      {
       "output_type": "stream",
       "stream": "stdout",
       "text": [
        "Residuals: ['mean_']\n",
        "Stopping rule not triggered.\n"
       ]
      },
      {
       "metadata": {},
       "output_type": "pyout",
       "prompt_number": 30,
       "text": [
        "False"
       ]
      },
      {
       "metadata": {},
       "output_type": "display_data",
       "png": "[encoded data removed]",
       "text": [
        "<matplotlib.figure.Figure at 0x303df50>"
       ]
      }
     ],
     "prompt_number": 30
    },
    {
     "cell_type": "markdown",
     "metadata": {},
     "source": [
      "# Demo with basic change detector\n",
      "\n",
      "In the next section we'll build this change detector. For now, notice\n",
      "how to overide the ChangeDetector class, and that we have convenience functions to trigger and plot. "
     ]
    },
    {
     "cell_type": "code",
     "collapsed": false,
     "input": [
      "class static_mean_detector(ChangeDetector):\n",
      "    \"\"\"\n",
      "    A change detection algorithm. \n",
      "    \n",
      "    The algorithm calculates residuals and updates them for each new value passed. \n",
      "    Residuals are checked against stopping rules at each change, yielding either True or False, accordingly. \n",
      "    \n",
      "    \"\"\"\n",
      "    \n",
      "    def __init__(self, threshold=0.05): \n",
      "        super( static_mean_detector, self ).__init__()\n",
      "\n",
      "        # hyper-parameter(s)\n",
      "        self.threshold = threshold\n",
      "        \n",
      "        # new residuals(s)\n",
      "        self.diff_ = np.nan \n",
      "    \n",
      "    def update_residuals(self, new_signal_value):\n",
      "        self._update_base_residuals(new_signal_value)\n",
      "\n",
      "        #Update residuals \n",
      "        self.mean_ = self.total_val / self.signal_size\n",
      "        self.diff_ = np.absolute(self.mean_ - new_signal_value)\n",
      "    \n",
      "    def check_stopping_rules(self, new_signal_value): \n",
      "        #check if new value is more than % different from mean\n",
      "        threshold_level = self.mean_ * self.threshold\n",
      "        \n",
      "        if self.diff_ > threshold_level:\n",
      "            self.rules_triggered = True\n",
      "          \n",
      "    def step(self, new_signal_value):\n",
      "        return self._step(new_signal_value)"
     ],
     "language": "python",
     "metadata": {},
     "outputs": [],
     "prompt_number": 31
    },
    {
     "cell_type": "code",
     "collapsed": false,
     "input": [
      "test_detector = static_mean_detector()\n",
      "\n",
      "test_detector.run(sig1)"
     ],
     "language": "python",
     "metadata": {},
     "outputs": [
      {
       "output_type": "stream",
       "stream": "stdout",
       "text": [
        "Residuals: ['mean_', 'diff_']\n",
        "Change detected. Stopping Rule triggered at 101.\n",
        "\n"
       ]
      },
      {
       "metadata": {},
       "output_type": "pyout",
       "prompt_number": 32,
       "text": [
        "True"
       ]
      },
      {
       "metadata": {},
       "output_type": "display_data",
       "png": "[encoded data removed]",
       "text": [
        "<matplotlib.figure.Figure at 0x2fdf910>"
       ]
      }
     ],
     "prompt_number": 32
    },
    {
     "cell_type": "code",
     "collapsed": false,
     "input": [],
     "language": "python",
     "metadata": {},
     "outputs": []
    }
   ],
   "metadata": {}
  }
 ]
}