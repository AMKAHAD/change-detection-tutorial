{
 "metadata": {
  "name": "",
  "signature": "sha256:11dc2094fc25eab553f293182db41eff3e047a03459440cd6aabb74d4b0429b3"
 },
 "nbformat": 3,
 "nbformat_minor": 0,
 "worksheets": [
  {
   "cells": [
    {
     "cell_type": "markdown",
     "metadata": {},
     "source": [
      "# Change Detection Tutorial\n",
      "\n",
      "    @author: amanahuja@gmail.com\n",
      "    source: github.com/amanahuja/change-detection-turtorial\n"
     ]
    },
    {
     "cell_type": "code",
     "collapsed": false,
     "input": [
      "# Modified Stylesheet for notebook.\n",
      "from IPython.core.display import HTML\n",
      "def css_styling():\n",
      "    styles = open(\"custom.css\", \"r\").read()\n",
      "    return HTML(styles)\n",
      "\n",
      "css_styling()"
     ],
     "language": "python",
     "metadata": {},
     "outputs": [
      {
       "html": [
        "<style>    div.cell{        max-width:750px;        margin-left:auto;        margin-right:auto;    }    h1 {        text-align:center;        font-familly:\"Charis SIL\", serif;    }</style>\n"
       ],
       "metadata": {},
       "output_type": "pyout",
       "prompt_number": 130,
       "text": [
        "<IPython.core.display.HTML at 0x4696110>"
       ]
      }
     ],
     "prompt_number": 130
    },
    {
     "cell_type": "markdown",
     "metadata": {},
     "source": [
      "## Section 0: Some Scaffolding\n",
      "\n",
      "Overview\n",
      "\n",
      " * Offline vs. Online change detection\n",
      " * We write some utility functions that allow us to \n",
      "  * pass signals to a change detection algorithm in \"online\" simulation mode\n",
      "  * calculate residuals after receiving each new data point\n",
      "  * Test the stopping rules at each iteration\n",
      "  * Plot results and output conveniently.\n"
     ]
    },
    {
     "cell_type": "markdown",
     "metadata": {},
     "source": [
      "### Aside: Offline vs. Online algorithms\n",
      "\n",
      "An \"offline\" change detection algorithm is one in which we are given the entire signal and are attempting to \"look back\" and recognize where the change occcured. \n",
      "\n",
      "An \"online\" algorithm is quite different, in which we imagine our signal as \"streaming into\" our detector, and at any given moment we only have knowledge of the most recent data point and whatever information the detector has retain about the signal. See wikipedia on Sequential Analysis http://en.wikipedia.org/wiki/Sequential_analysis\n",
      "\n",
      "My interest is in the latter \"online\" class of algorithms. That means I want to make sure data points are passed to the algorithm one by one, and that I am interested in \n",
      "\n",
      "  1. detecting a change, \n",
      "  2. in deciding whether a change is significant enough to trigger an alert, and \n",
      "  3. in how quickly I can detect the change after it occurs. \n",
      "\n",
      "I also want to make sure that I am not cheating when I run my experiments. \n",
      "\n",
      "To do all this, it is helpful to write some code that helps me simulate the online streaming scenario of interest. "
     ]
    },
    {
     "cell_type": "code",
     "collapsed": false,
     "input": [
      "import matplotlib.pyplot as plt\n",
      "import numpy as np"
     ],
     "language": "python",
     "metadata": {},
     "outputs": [],
     "prompt_number": 131
    },
    {
     "cell_type": "code",
     "collapsed": false,
     "input": [
      "from collections import defaultdict\n",
      "np.random.seed(seed=111111)\n",
      "np.set_printoptions(precision=2, suppress=True)"
     ],
     "language": "python",
     "metadata": {},
     "outputs": [],
     "prompt_number": 132
    },
    {
     "cell_type": "markdown",
     "metadata": {},
     "source": [
      "## ... thus we need some \"scaffolding\"\n",
      "\n",
      "This notebook is an optional part of the tutorial, in which we create a class and some methods in order to \"simulate\" streaming data. \n",
      "\n",
      "The scenario that we are simulating: \n",
      "\n",
      " * each data point is passed to the algorithm one by one\n",
      " * the algorithm performs its analysis on that new information along with any stored historical information\n",
      " * the algorithm decides after each data point whether or not a change has been detected. \n",
      "\n",
      "With these tools, which we will utilize in the tutorial, we can experiment with online algorithms and, more specifically, online change detection algorithms. "
     ]
    },
    {
     "cell_type": "markdown",
     "metadata": {},
     "source": [
      "## Pseudocode\n",
      "\n",
      "Thinking this through, here's what I came up with, in pseudocode"
     ]
    },
    {
     "cell_type": "raw",
     "metadata": {},
     "source": [
      "An online simulation function might look something like this: \n",
      "----------------------\n",
      "(pseudocode)\n",
      "\n",
      "function online_simulator(signal, cd_algorithm, stopping rules): \n",
      "  \n",
      "  Iterate through the signal, passing data points to the algorithm. FOR EACH data point\n",
      "    Calculate residuals\n",
      "    Compare residuals with the stopping rule(s)\n",
      "    IF the stopping rule is triggered\n",
      "      RETURN (True, residuals, stopping_rule_triggered)\n",
      "\n",
      "  At the end of the signal, IF the stopping rule is not triggered\n",
      "     THEN return (False, residuals)\n"
     ]
    },
    {
     "cell_type": "raw",
     "metadata": {},
     "source": [
      "What about the change detection algorithm, what does that look like? \n",
      "\n",
      "Essentially the algorithm is just calculating residuals and updating them for each new value passed. \n",
      "-------------------------\n",
      "(pseudocode)\n",
      "\n",
      "class cd_algorithm:\n",
      "   Initialization\n",
      "      initialize residuals\n",
      "\n",
      "   METHOD step FOR EACH new_signal_value\n",
      "      Update residuals\n",
      "      Check if Stopping Rules have been triggered\n",
      "      IF rules_triggered\n",
      "        RETURN (True, residuals, signal_size, stopping_rule_triggered)\n",
      "      \n",
      "----\n",
      "actually we'll make that step method into a generator, so we can yield values for each new value of the signal."
     ]
    },
    {
     "cell_type": "markdown",
     "metadata": {},
     "source": [
      "## Import this scaffolding\n",
      "\n",
      "To see the implementation details, you can check out \n",
      "\n",
      "    src/change_detector.py \n",
      "\n",
      "in the current github repository. But it should be possible to follow this tutorial if you just understand the pseudocode above"
     ]
    },
    {
     "cell_type": "code",
     "collapsed": false,
     "input": [
      "import sys; sys.path.append('../src/')\n",
      "from change_detector import ChangeDetector"
     ],
     "language": "python",
     "metadata": {},
     "outputs": [],
     "prompt_number": 176
    },
    {
     "cell_type": "code",
     "collapsed": false,
     "input": [
      "# Initialize change detector\n",
      "\n",
      "detector = ChangeDetector()\n",
      "\n",
      "print detector\n",
      "print \"Signal size:\", detector.signal_size"
     ],
     "language": "python",
     "metadata": {},
     "outputs": [
      {
       "output_type": "stream",
       "stream": "stdout",
       "text": [
        "Change Detector(triggered=False, residuals={})\n",
        "Signal size: 0\n"
       ]
      }
     ],
     "prompt_number": 178
    },
    {
     "cell_type": "code",
     "collapsed": false,
     "input": [
      "# Add one point to the change_detector\n",
      "next(detector.step(10))\n",
      "\n",
      "# (The step() function is written as a python generator)\n",
      "\n",
      "print detector\n",
      "print \"Signal size:\", detector.signal_size"
     ],
     "language": "python",
     "metadata": {},
     "outputs": [
      {
       "output_type": "stream",
       "stream": "stdout",
       "text": [
        "Change Detector(triggered=False, residuals={})\n",
        "Signal size: 1\n"
       ]
      }
     ],
     "prompt_number": 179
    },
    {
     "cell_type": "code",
     "collapsed": false,
     "input": [
      "# It is more convenient to pass the entire signal to \n",
      "#  ChangeDetector.run()\n",
      "# run() plot the signal, our residuals, and the stopping point, \n",
      "# if any rules were triggered.\n",
      "\n",
      "signal = np.random.randint(10, size=10)\n",
      "print \"Signal: {}\".format(signal)\n",
      "\n",
      "# reset\n",
      "detector = ChangeDetector()\n",
      "\n",
      "# pass the signal the online_simulator\n",
      "detector.run(signal)"
     ],
     "language": "python",
     "metadata": {},
     "outputs": [
      {
       "output_type": "stream",
       "stream": "stdout",
       "text": [
        "Signal: [5 4 7 5 0 6 3 0 4 6]\n",
        "Residuals: []\n",
        "Stopping rule not triggered.\n"
       ]
      },
      {
       "metadata": {},
       "output_type": "pyout",
       "prompt_number": 180,
       "text": [
        "False"
       ]
      },
      {
       "metadata": {},
       "output_type": "display_data",
       "png": "[encoded data removed]",
       "text": [
        "<matplotlib.figure.Figure at 0x4f057d0>"
       ]
      }
     ],
     "prompt_number": 180
    },
    {
     "cell_type": "raw",
     "metadata": {},
     "source": [
      "(Note that the stopping rule will not be triggered, because we haven't created any stopping rules yet.)"
     ]
    },
    {
     "cell_type": "markdown",
     "metadata": {},
     "source": [
      "## Important: \n",
      "When we send a signal to ChangeDetector.run() we are stepping through the new points one by one just like this\n",
      "\n",
      "    for datapoint in signal: \n",
      "        detector.step(datapoint)\n",
      "\n",
      "At each step, the detector decides whether the stopping rule should be triggered with only the information available to it at that step. \n",
      "\n",
      "This is what makes the detector an online algorithm. "
     ]
    },
    {
     "cell_type": "raw",
     "metadata": {},
     "source": [
      "Fine, okay, that works, but it doesn't do much. \n",
      "\n",
      "We'll now write a new Class that extends ChangeDetector. We'll add a residual. \n"
     ]
    },
    {
     "cell_type": "code",
     "collapsed": false,
     "input": [
      "class Mean_Detector(ChangeDetector):\n",
      "    \"\"\"\n",
      "    This is a simple detector that extends the base \n",
      "    ChangeDetector. \n",
      "    \n",
      "    This serves as a useful \"skeleton\" on how to override \n",
      "    the methods of ChangeDetector.\n",
      "    \n",
      "    We're adding a \"residual\" -- we'll keep track of the \n",
      "    mean of the signal. \n",
      "    \"\"\"\n",
      "    def __init__(self):\n",
      "        super(Mean_Detector, self).__init__()\n",
      "\n",
      "        self.total_val = 0\n",
      "        # Mean is a pretty simple and useful residual\n",
      "        self.mean_ = np.nan\n",
      "        \n",
      "    def update_residuals(self, new_signal_value):\n",
      "        self._update_base_residuals(new_signal_value)\n",
      "        \n",
      "        self.total_val += new_signal_value\n",
      "        self.mean_ = float(self.total_val) / self.signal_size\n",
      "    \n",
      "    def check_stopping_rules(self, new_signal_value):\n",
      "        # Implement Stopping rules here\n",
      "        if np.abs(new_signal_value - self.mean_) > 100: \n",
      "            self.rules_triggered = True\n",
      "\n"
     ],
     "language": "python",
     "metadata": {},
     "outputs": [],
     "prompt_number": 167
    },
    {
     "cell_type": "raw",
     "metadata": {},
     "source": [
      "We have a residual, now, called `mean_`. \n",
      "\n",
      "We're also retaining a new attribute, `total_val` which we use to calculate the mean. Our scaffolding code only plots attributes ending with underscore (`_`), which we use as a way of marking our residuals.\n",
      "\n"
     ]
    },
    {
     "cell_type": "markdown",
     "metadata": {},
     "source": [
      "The mean is close to `5` right now. \n",
      "\n",
      "The stopping rule says that if a new value passed differs from the mean by more than 100 units, then the stopping rule should be triggered. \n",
      "\n",
      "Let's test this out by building a new signal."
     ]
    },
    {
     "cell_type": "code",
     "collapsed": false,
     "input": [
      "part2 = np.array([5,5,200,0,0,2,4,8,3,10])\n",
      "signal2 = np.concatenate([signal, part2])\n",
      "\n",
      "#Visualize the new signal\n",
      "print signal2\n",
      "\n",
      "plt.plot(signal2)"
     ],
     "language": "python",
     "metadata": {},
     "outputs": [
      {
       "output_type": "stream",
       "stream": "stdout",
       "text": [
        "[  1   7   5   9   5   0   3   2   7   6   5   5 200   0   0   2   4   8\n",
        "   3  10]\n"
       ]
      },
      {
       "metadata": {},
       "output_type": "pyout",
       "prompt_number": 173,
       "text": [
        "[<matplotlib.lines.Line2D at 0x4d2a3d0>]"
       ]
      },
      {
       "metadata": {},
       "output_type": "display_data",
       "png": "[encoded data removed]",
       "text": [
        "<matplotlib.figure.Figure at 0x51df190>"
       ]
      }
     ],
     "prompt_number": 173
    },
    {
     "cell_type": "code",
     "collapsed": false,
     "input": [
      "# Let's run our detector on this signal\n",
      "\n",
      "detector = Mean_Detector()\n",
      "detector.run(signal2)\n"
     ],
     "language": "python",
     "metadata": {},
     "outputs": [
      {
       "output_type": "stream",
       "stream": "stdout",
       "text": [
        "Residuals: ['mean_']\n",
        "Change detected. Stopping Rule triggered at 12.\n",
        "\n"
       ]
      },
      {
       "metadata": {},
       "output_type": "pyout",
       "prompt_number": 171,
       "text": [
        "True"
       ]
      },
      {
       "metadata": {},
       "output_type": "display_data",
       "png": "[encoded data removed]",
       "text": [
        "<matplotlib.figure.Figure at 0x51b48d0>"
       ]
      }
     ],
     "prompt_number": 171
    },
    {
     "cell_type": "markdown",
     "metadata": {},
     "source": [
      "Note that the signal was triggered at data point 12. No information about the rest of the signal `(signal2[12:])` was available to the detector at the time the stopping rule was triggered. \n",
      "\n",
      "After the rules were triggered, the simulation stopped. No residuals were calculated for the remainder of the points. (The rest of signal is still shown, for illustrative purposes)."
     ]
    },
    {
     "cell_type": "markdown",
     "metadata": {},
     "source": [
      "### This is the important disctinction between online and offline algorithms.\n",
      "\n",
      "Our online change detectors, at any given time $t_0$, only have access to the portion of the signal that has before, $t < t_0$. \n",
      "\n"
     ]
    },
    {
     "cell_type": "markdown",
     "metadata": {},
     "source": [
      "## Finally, let's get started.\n",
      "\n",
      "\n",
      "Okay, so now we have the ability to write change detectors, \n",
      "easily pass signals to them in an \"online\" fashion, and to \n",
      "examine and visualize the results. \n",
      "\n",
      "Now we can get to the good stuff!"
     ]
    },
    {
     "cell_type": "code",
     "collapsed": false,
     "input": [],
     "language": "python",
     "metadata": {},
     "outputs": []
    }
   ],
   "metadata": {}
  }
 ]
}