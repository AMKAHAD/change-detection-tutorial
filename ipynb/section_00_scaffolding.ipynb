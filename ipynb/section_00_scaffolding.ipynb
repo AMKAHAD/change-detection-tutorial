{
 "metadata": {
  "name": "",
  "signature": "sha256:09d0c3a39bc96a01c4ee1a10336176e61ff05895f1b71ca787c5b02b7ec4adb4"
 },
 "nbformat": 3,
 "nbformat_minor": 0,
 "worksheets": [
  {
   "cells": [
    {
     "cell_type": "markdown",
     "metadata": {},
     "source": [
      "# Change Detection Tutorial\n",
      "\n",
      "    author: @amanqa\n",
      "    source: github.com/amanahuja/change-detection-tutorial\n"
     ]
    },
    {
     "cell_type": "code",
     "collapsed": false,
     "input": [
      "# Modified Stylesheet for notebook.\n",
      "from IPython.core.display import HTML\n",
      "def css_styling():\n",
      "    styles = open(\"custom.css\", \"r\").read()\n",
      "    return HTML(styles)\n",
      "\n",
      "css_styling()"
     ],
     "language": "python",
     "metadata": {},
     "outputs": [
      {
       "html": [
        "<style>    div.cell{        max-width:750px;        margin-left:auto;        margin-right:auto;    }    h1 {        text-align:center;        font-familly:\"Charis SIL\", serif;    }</style>\n"
       ],
       "metadata": {},
       "output_type": "pyout",
       "prompt_number": 1,
       "text": [
        "<IPython.core.display.HTML at 0x3aac210>"
       ]
      }
     ],
     "prompt_number": 1
    },
    {
     "cell_type": "markdown",
     "metadata": {},
     "source": [
      "## Section 0: Some Scaffolding\n",
      "\n",
      "Overview\n",
      "\n",
      " * Offline vs. Online change detection\n",
      " * We write some utility functions that allow us to \n",
      "  * pass signals to a change detection algorithm in \"online\" simulation mode\n",
      "  * calculate residuals after receiving each new data point\n",
      "  * Test the stopping rules at each iteration\n",
      "  * Plot results and output conveniently.\n"
     ]
    },
    {
     "cell_type": "markdown",
     "metadata": {},
     "source": [
      "### Aside: Offline vs. Online algorithms\n",
      "\n",
      "An \"offline\" change detection algorithm is one in which we are given the entire signal and are attempting to \"look back\" and recognize where the change occcured. \n",
      "\n",
      "An \"online\" algorithm is quite different, in which we imagine our signal as \"streaming into\" our detector, and at any given moment we only have knowledge of the most recent data point and whatever information the detector has retain about the signal. See wikipedia on Sequential Analysis http://en.wikipedia.org/wiki/Sequential_analysis\n",
      "\n",
      "My interest is in the latter \"online\" class of algorithms. That means I want to make sure data points are passed to the algorithm one by one, and that I am interested in \n",
      "\n",
      "  1. detecting a change, \n",
      "  2. in deciding whether a change is significant enough to trigger an alert, and \n",
      "  3. in how quickly I can detect the change after it occurs. \n",
      "\n",
      "I also want to make sure that I am not cheating when I run my experiments. \n",
      "\n",
      "To do all this, it is helpful to write some code that helps me simulate the online streaming scenario of interest. "
     ]
    },
    {
     "cell_type": "code",
     "collapsed": false,
     "input": [
      "import matplotlib.pyplot as plt\n",
      "import numpy as np"
     ],
     "language": "python",
     "metadata": {},
     "outputs": [],
     "prompt_number": 2
    },
    {
     "cell_type": "code",
     "collapsed": false,
     "input": [
      "from collections import defaultdict\n",
      "np.random.seed(seed=111111)\n",
      "np.set_printoptions(precision=2, suppress=True)"
     ],
     "language": "python",
     "metadata": {},
     "outputs": [],
     "prompt_number": 3
    },
    {
     "cell_type": "markdown",
     "metadata": {},
     "source": [
      "## ... thus we need some \"scaffolding\"\n",
      "\n",
      "This notebook is an optional part of the tutorial, in which we create a class and some methods in order to \"simulate\" streaming data. \n",
      "\n",
      "The scenario that we are simulating: \n",
      "\n",
      " * each data point is passed to the algorithm one by one\n",
      " * the algorithm performs its analysis on that new information along with any stored historical information\n",
      " * the algorithm decides after each data point whether or not a change has been detected. \n",
      "\n",
      "With these tools, which we will utilize in the tutorial, we can experiment with online algorithms and, more specifically, online change detection algorithms. "
     ]
    },
    {
     "cell_type": "markdown",
     "metadata": {},
     "source": [
      "## Pseudocode\n",
      "\n",
      "Thinking this through, here's what I came up with, in pseudocode"
     ]
    },
    {
     "cell_type": "markdown",
     "metadata": {},
     "source": [
      "Essentially a change detection algorithm is just calculating residuals and updating them for each new value passed. \n",
      "\n",
      "```\n",
      "class ChangeDetector:\n",
      "    INIT:\n",
      "        initialize residuals (to zero or neutral values)\n",
      "        accept custom parameters\n",
      "        \n",
      "    METHOD step(new_signal_value):\n",
      "        Update residuals with new_signal_value\n",
      "        IF Stopping Rules have been triggered:\n",
      "            RETURN True\n",
      "```\n",
      "\n",
      "We'll make that step method a generator, so we can yield values for each new value of the signal."
     ]
    },
    {
     "cell_type": "markdown",
     "metadata": {},
     "source": [
      "Then, we can write a simulation that accepts an instance of Change Detector and a signal, and conveniently steps through the signal (one data points at a time). \n",
      "\n",
      "```\n",
      "class OnlineSimulator(change_detector, signal): \n",
      "\n",
      "    METHOD run: \n",
      "        # Pass each data point to the algorithm one by one\n",
      "        FOR EACH data point in the signal:\n",
      "            CALL change_detector.step() \n",
      "            Store value of each residual in change detector\n",
      "            IF stopping rules were triggered: \n",
      "                BREAK FOR LOOP\n",
      "    \n",
      "        PLOT signal, residual values\n",
      "```\n"
     ]
    },
    {
     "cell_type": "markdown",
     "metadata": {},
     "source": [
      "## Import this scaffolding\n",
      "\n",
      "To see the implementation details, you can check out \n",
      "\n",
      "    src/change_detector.py \n",
      "\n",
      "in the current github repository. But it should be possible to follow this tutorial if you just understand the pseudocode above"
     ]
    },
    {
     "cell_type": "code",
     "collapsed": false,
     "input": [
      "import sys; sys.path.append('../src/')\n",
      "from change_detector import ChangeDetector"
     ],
     "language": "python",
     "metadata": {},
     "outputs": [],
     "prompt_number": 4
    },
    {
     "cell_type": "code",
     "collapsed": false,
     "input": [
      "# Initialize change detector\n",
      "\n",
      "detector = ChangeDetector()\n",
      "\n",
      "print detector\n",
      "print \"Signal size:\", detector.signal_size"
     ],
     "language": "python",
     "metadata": {},
     "outputs": [
      {
       "output_type": "stream",
       "stream": "stdout",
       "text": [
        "Change Detector(triggered=False, residuals={})\n",
        "Signal size: 0\n"
       ]
      }
     ],
     "prompt_number": 5
    },
    {
     "cell_type": "code",
     "collapsed": false,
     "input": [
      "# Add one point to the change_detector\n",
      "next(detector.step(10))\n",
      "\n",
      "# (The step() function is written as a python generator)\n",
      "\n",
      "print detector\n",
      "print \"Signal size:\", detector.signal_size"
     ],
     "language": "python",
     "metadata": {},
     "outputs": [
      {
       "output_type": "stream",
       "stream": "stdout",
       "text": [
        "Change Detector(triggered=False, residuals={})\n",
        "Signal size: 1\n"
       ]
      }
     ],
     "prompt_number": 6
    },
    {
     "cell_type": "markdown",
     "metadata": {},
     "source": [
      "## The Online Simulator \n",
      "\n",
      "It would be inconvenient to have to manually pass the entire signal, one point at a time, to our change detector, so we will use the online simulator. \n",
      "\n",
      "OnlineSimulator.run() will plot the signal, our residuals, and -- if any rules were triggered -- the stopping point will be shown in the plot. "
     ]
    },
    {
     "cell_type": "code",
     "collapsed": false,
     "input": [
      "from change_detector import OnlineSimulator"
     ],
     "language": "python",
     "metadata": {},
     "outputs": [],
     "prompt_number": 7
    },
    {
     "cell_type": "code",
     "collapsed": false,
     "input": [
      "signal = np.random.randint(10, size=20)\n",
      "print \"Signal: {}\".format(signal)\n",
      "\n",
      "# reset\n",
      "sim = OnlineSimulator(detector, signal)\n",
      "\n",
      "# pass the signal the online_simulator\n",
      "sim.run(plot=True)"
     ],
     "language": "python",
     "metadata": {},
     "outputs": [
      {
       "output_type": "stream",
       "stream": "stdout",
       "text": [
        "Signal: [9 7 7 5 2 3 4 4 0 1 7 4 7 9 5 9 1 5 9 0]\n",
        "Residuals: []\n",
        "Stopping rule not triggered.\n"
       ]
      },
      {
       "metadata": {},
       "output_type": "pyout",
       "prompt_number": 8,
       "text": [
        "False"
       ]
      },
      {
       "metadata": {},
       "output_type": "display_data",
       "png": "[encoded data removed]",
       "text": [
        "<matplotlib.figure.Figure at 0x3aacd10>"
       ]
      }
     ],
     "prompt_number": 8
    },
    {
     "cell_type": "raw",
     "metadata": {},
     "source": [
      "(Note that the stopping rule will not be triggered, because we haven't created any stopping rules yet.)"
     ]
    },
    {
     "cell_type": "code",
     "collapsed": false,
     "input": [
      "print detector"
     ],
     "language": "python",
     "metadata": {},
     "outputs": [
      {
       "output_type": "stream",
       "stream": "stdout",
       "text": [
        "Change Detector(triggered=False, residuals={})\n"
       ]
      }
     ],
     "prompt_number": 9
    },
    {
     "cell_type": "markdown",
     "metadata": {},
     "source": [
      "## Important: \n",
      "When we send a signal to OnlineSimulator.run() we are stepping through each data point in the signal one by one, just as if\n",
      "\n",
      "    for datapoint in signal: \n",
      "        detector.step(datapoint)\n",
      "\n",
      "At each step, the detector decides whether the stopping rule should be triggered with only the information available to it at that step. \n",
      "\n",
      "This is what makes the detector an online algorithm. "
     ]
    },
    {
     "cell_type": "raw",
     "metadata": {},
     "source": [
      "Fine, okay, that works, but it doesn't do much. \n",
      "\n",
      "We'll now write a new Class that extends ChangeDetector. We'll add a residual. \n"
     ]
    },
    {
     "cell_type": "code",
     "collapsed": false,
     "input": [
      "class MeanDetector(ChangeDetector):\n",
      "    \"\"\"\n",
      "    This is a simple detector that extends the base \n",
      "    ChangeDetector. \n",
      "    \n",
      "    This serves as a useful \"skeleton\" on how to override \n",
      "    the methods of ChangeDetector.\n",
      "    \n",
      "    We're adding a \"residual\" -- we'll keep track of the \n",
      "    mean of the signal. \n",
      "    \"\"\"\n",
      "    def __init__(self):\n",
      "        super(MeanDetector, self).__init__()\n",
      "\n",
      "        self.total_val = 0\n",
      "        # Mean is a pretty simple and useful residual\n",
      "        self.mean_ = np.nan\n",
      "        \n",
      "    def update_residuals(self, new_signal_value):\n",
      "        self._update_base_residuals(new_signal_value)\n",
      "        \n",
      "        self.total_val += new_signal_value\n",
      "        self.mean_ = float(self.total_val) / self.signal_size\n",
      "    \n",
      "    def check_stopping_rules(self, new_signal_value):\n",
      "        # Implement Stopping rules here\n",
      "        if np.abs(new_signal_value - self.mean_) > 100: \n",
      "            self.rules_triggered = True\n",
      "\n"
     ],
     "language": "python",
     "metadata": {},
     "outputs": [],
     "prompt_number": 10
    },
    {
     "cell_type": "markdown",
     "metadata": {},
     "source": [
      "We can use this improved detector just like before:"
     ]
    },
    {
     "cell_type": "code",
     "collapsed": false,
     "input": [
      "detector = MeanDetector()\n",
      "\n",
      "OnlineSimulator(detector, signal).run()"
     ],
     "language": "python",
     "metadata": {},
     "outputs": [
      {
       "output_type": "stream",
       "stream": "stdout",
       "text": [
        "Residuals: ['mean_']\n",
        "Stopping rule not triggered.\n"
       ]
      },
      {
       "metadata": {},
       "output_type": "pyout",
       "prompt_number": 11,
       "text": [
        "False"
       ]
      },
      {
       "metadata": {},
       "output_type": "display_data",
       "png": "[encoded data removed]",
       "text": [
        "<matplotlib.figure.Figure at 0x3bc2f10>"
       ]
      }
     ],
     "prompt_number": 11
    },
    {
     "cell_type": "markdown",
     "metadata": {},
     "source": [
      "We have a residual, now, called `mean_`. \n",
      "\n",
      "*We are also retaining a new attribute, `total_val` which we use to calculate the mean. Our scaffolding code only plots attributes ending with underscore (`_`), which we use as a way of marking our residuals.*\n",
      "\n",
      "The mean is close to `5` right now. The stopping rule says that if a new value passed differs from the mean by more than 100 units, then the stopping rule should be triggered. \n",
      "\n",
      "Let's test this out by building a new signal."
     ]
    },
    {
     "cell_type": "code",
     "collapsed": false,
     "input": [
      "signal[17] = 200\n",
      "\n",
      "plt.plot(signal)"
     ],
     "language": "python",
     "metadata": {},
     "outputs": [
      {
       "metadata": {},
       "output_type": "pyout",
       "prompt_number": 12,
       "text": [
        "[<matplotlib.lines.Line2D at 0x3e1d7d0>]"
       ]
      },
      {
       "metadata": {},
       "output_type": "display_data",
       "png": "[encoded data removed]",
       "text": [
        "<matplotlib.figure.Figure at 0x3df59d0>"
       ]
      }
     ],
     "prompt_number": 12
    },
    {
     "cell_type": "code",
     "collapsed": false,
     "input": [
      "# Let's run our detector on this signal\n",
      "\n",
      "OnlineSimulator(detector, signal).run()\n"
     ],
     "language": "python",
     "metadata": {},
     "outputs": [
      {
       "output_type": "stream",
       "stream": "stdout",
       "text": [
        "Residuals: ['mean_']\n",
        "Change detected. Stopping Rule triggered at 17.\n",
        "\n"
       ]
      },
      {
       "metadata": {},
       "output_type": "pyout",
       "prompt_number": 13,
       "text": [
        "True"
       ]
      },
      {
       "metadata": {},
       "output_type": "display_data",
       "png": "[encoded data removed]",
       "text": [
        "<matplotlib.figure.Figure at 0x3e06b90>"
       ]
      }
     ],
     "prompt_number": 13
    },
    {
     "cell_type": "markdown",
     "metadata": {},
     "source": [
      "Note that the signal was triggered at data point 17. No information about the rest of the signal was available to the detector at the time the stopping rule was triggered. \n",
      "\n",
      "After the rules were triggered, the simulation stopped. No residuals were calculated for the remainder of the points. (The rest of signal is still shown, only for illustrative purposes)."
     ]
    },
    {
     "cell_type": "markdown",
     "metadata": {},
     "source": [
      "### This is the important disctinction between online and offline algorithms.\n",
      "\n",
      "Our online change detectors, at any given time $t_0$, only have access to the portion of the signal that has before, $t < t_0$. \n",
      "\n"
     ]
    },
    {
     "cell_type": "markdown",
     "metadata": {},
     "source": [
      "## Finally, let's get started.\n",
      "\n",
      "\n",
      "Okay, so now we have the ability to write change detectors, \n",
      "easily pass signals to them in an \"online\" fashion, and to \n",
      "examine and visualize the results. \n",
      "\n",
      "Return to the Change Detection Tutorial [Table of Contents](https://github.com/amanahuja/change-detection-tutorial)"
     ]
    }
   ],
   "metadata": {}
  }
 ]
}