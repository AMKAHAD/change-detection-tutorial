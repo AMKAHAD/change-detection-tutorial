{
 "metadata": {
  "name": "",
  "signature": "sha256:041dd6c11a52484229c7ac2180b7d489e5760e7a3680a639af2bf4e56b28b95c"
 },
 "nbformat": 3,
 "nbformat_minor": 0,
 "worksheets": [
  {
   "cells": [
    {
     "cell_type": "code",
     "collapsed": false,
     "input": [
      "# Modified Stylesheet for notebook.\n",
      "from IPython.core.display import HTML\n",
      "def css_styling():\n",
      "    styles = open(\"custom.css\", \"r\").read()\n",
      "    return HTML(styles)\n",
      "\n",
      "css_styling()"
     ],
     "language": "python",
     "metadata": {},
     "outputs": [
      {
       "html": [
        "<style>    div.cell{        max-width:750px;        margin-left:auto;        margin-right:auto;    }    h1 {        text-align:center;        font-familly:\"Charis SIL\", serif;    }</style>\n"
       ],
       "metadata": {},
       "output_type": "pyout",
       "prompt_number": 1,
       "text": [
        "<IPython.core.display.HTML at 0x32e9210>"
       ]
      }
     ],
     "prompt_number": 1
    },
    {
     "cell_type": "markdown",
     "metadata": {},
     "source": [
      "#Change Detection Tutorial\n",
      "##Section 0: Introduction\n",
      "\n",
      "\n",
      "Lesson Plan\n",
      "\n",
      "* Part 0: Introduction\n",
      "\n",
      " * Introduction  (what is change detection)\n",
      " * Justification (why does change detection matter)\n",
      " * Offline vs. Online change detection\n",
      " * References and Further Reading\n"
     ]
    },
    {
     "cell_type": "code",
     "collapsed": false,
     "input": [
      "import matplotlib.pyplot as plt\n",
      "import numpy as np"
     ],
     "language": "python",
     "metadata": {},
     "outputs": [],
     "prompt_number": 2
    },
    {
     "cell_type": "code",
     "collapsed": false,
     "input": [
      "from collections import defaultdict\n",
      "np.random.seed(seed=111111)\n",
      "np.set_printoptions(precision=3, suppress=True)"
     ],
     "language": "python",
     "metadata": {},
     "outputs": [],
     "prompt_number": 3
    },
    {
     "cell_type": "markdown",
     "metadata": {},
     "source": [
      "### 1a. Start simplest\n",
      "\n",
      "The simplest signal we might be able to imagine is one that is completely constant except for exactly one increase or decrease in absolute value. \n",
      "\n",
      "I'll use a signal size of 1000 points. \n",
      "\n"
     ]
    },
    {
     "cell_type": "code",
     "collapsed": false,
     "input": [
      "sig1 = np.ones(1000)\n",
      "sig1[:500] = sig1[:500] * 50\n",
      "sig1[500:] = sig1[500:] * 40\n",
      "\n",
      "plot(sig1)\n",
      "ylim(0,100)\n",
      "title(\"sig1\")"
     ],
     "language": "python",
     "metadata": {},
     "outputs": [
      {
       "metadata": {},
       "output_type": "pyout",
       "prompt_number": 4,
       "text": [
        "<matplotlib.text.Text at 0x32fed10>"
       ]
      },
      {
       "metadata": {},
       "output_type": "display_data",
       "png": "[encoded data removed]",
       "text": [
        "<matplotlib.figure.Figure at 0x32e9950>"
       ]
      }
     ],
     "prompt_number": 4
    },
    {
     "cell_type": "markdown",
     "metadata": {},
     "source": [
      "## Aside: Offline vs. Online algorithms\n",
      "\n",
      "An \"offline\" change detection algorithm is one in which we are given the entire signal and are attempting to \"look back\" and recognize where the change occcured. \n",
      "\n",
      "An \"online\" algorithm is quite different, in which we imagine our signal as \"streaming into\" our detector, and at any given moment we only have knowledge of the most recent data point and whatever information we chose to retain about the history of the signal. \n",
      "\n",
      "Reference: Sequential Analysis http://en.wikipedia.org/wiki/Sequential_analysis\n",
      "\n",
      "My interest is in the latter \"online\" class of algorithms. That means I want to make sure data points are passed to the algorithm one by one, and that I am interested in \n",
      "\n",
      "  1. detecting a change, \n",
      "  2. in deciding whether a change is significant enough to trigger an alert, and \n",
      "  3. in how quickly I can detect the change after it occurs. \n",
      "\n",
      "I also want to make sure that I am not cheating when I run my experiments. \n",
      "\n",
      "To do all this, it is helpful to write some code that helps me simulate the online streaming scenario of interest. "
     ]
    },
    {
     "cell_type": "markdown",
     "metadata": {},
     "source": [
      "## Aside: Some Scaffolding\n",
      "\n",
      "\n",
      "I want to be able to realistically simulate streaming data for my online algorithm experiments. That is, I want to write code that simulates a scenario in which \n",
      "\n",
      " * each data point is passed to the algorithm one by one\n",
      " * the algorithm performs its analysis on that new information along with any stored historical information\n",
      " * the algorithm decides after each data point whether or not a change has been detected. \n",
      "\n",
      "The following code will provide this framework and enable us to run some experiments more conveniently. Feel free to skip this section. \n",
      "\n"
     ]
    },
    {
     "cell_type": "raw",
     "metadata": {},
     "source": [
      "An online simulation function might look something like this: \n",
      "----------------------\n",
      "(pseudocode)\n",
      "\n",
      "function online_simulator(signal, cd_algorithm, stopping rules): \n",
      "  \n",
      "  Iterate through the signal, passing data points to the algorithm. FOR EACH data point\n",
      "    Calculate residuals\n",
      "    Compare residuals with the stopping rule(s)\n",
      "    IF the stopping rule is triggered\n",
      "      RETURN (True, residuals, stopping_rule_triggered)\n",
      "\n",
      "  At the end of the signal, IF the stopping rule is not triggered\n",
      "     THEN return (False, residuals)\n"
     ]
    },
    {
     "cell_type": "markdown",
     "metadata": {},
     "source": [
      "## Import this scaffolding\n",
      "\n",
      "To see the implementation details, you can check out \n",
      "\n",
      "    src/change_detector.py \n",
      "\n",
      "in the current github repository. But it should be possible to follow\n",
      "this tutorial if you just understand the pseudocode above"
     ]
    },
    {
     "cell_type": "code",
     "collapsed": false,
     "input": [
      "import sys; sys.path.append('../src/')\n",
      "from change_detector import ChangeDetector"
     ],
     "language": "python",
     "metadata": {},
     "outputs": [],
     "prompt_number": 5
    },
    {
     "cell_type": "code",
     "collapsed": false,
     "input": [
      "import change_detector\n",
      "reload(change_detector)\n",
      "from change_detector import ChangeDetector"
     ],
     "language": "python",
     "metadata": {},
     "outputs": [],
     "prompt_number": 6
    },
    {
     "cell_type": "markdown",
     "metadata": {},
     "source": [
      "## Implement a \"blank\" change detector"
     ]
    },
    {
     "cell_type": "code",
     "collapsed": false,
     "input": [
      "class Blank_Detector(ChangeDetector):\n",
      "    def __init__(self):\n",
      "        super(Blank_Detector, self).__init__()\n",
      "            \n",
      "    def update_residuals(self, new_signal_value):\n",
      "        self._update_base_residuals(new_signal_value)\n",
      "    \n",
      "    def check_stopping_rules(self, new_signal_value):\n",
      "        pass"
     ],
     "language": "python",
     "metadata": {},
     "outputs": [],
     "prompt_number": 7
    },
    {
     "cell_type": "code",
     "collapsed": false,
     "input": [
      "blank_detector = Blank_Detector()\n",
      "\n",
      "residuals = blank_detector.run(sig1)"
     ],
     "language": "python",
     "metadata": {},
     "outputs": [
      {
       "output_type": "stream",
       "stream": "stdout",
       "text": [
        "Residuals: []\n",
        "Stopping rule not triggered.\n"
       ]
      },
      {
       "metadata": {},
       "output_type": "display_data",
       "png": "[encoded data removed]",
       "text": [
        "<matplotlib.figure.Figure at 0x33f4dd0>"
       ]
      }
     ],
     "prompt_number": 8
    },
    {
     "cell_type": "markdown",
     "metadata": {},
     "source": [
      "That works, but it doesn't do much. \n",
      "\n",
      "Let's change the Blank Detector to add a residual.\n"
     ]
    },
    {
     "cell_type": "code",
     "collapsed": false,
     "input": [
      "class Blank_Detector(ChangeDetector):\n",
      "    def __init__(self):\n",
      "        super(Blank_Detector, self).__init__()\n",
      "\n",
      "        self.total_val = 0\n",
      "        # Mean is a pretty simple and useful residual\n",
      "        self.mean_ = np.nan\n",
      "        \n",
      "    def update_residuals(self, new_signal_value):\n",
      "        self._update_base_residuals(new_signal_value)\n",
      "        \n",
      "        self.total_val += new_signal_value\n",
      "        self.mean_ = self.total_val / self.signal_size\n",
      "    \n",
      "    def check_stopping_rules(self, new_signal_value):\n",
      "        pass    \n",
      "\n"
     ],
     "language": "python",
     "metadata": {},
     "outputs": [],
     "prompt_number": 11
    },
    {
     "cell_type": "code",
     "collapsed": false,
     "input": [
      "blank_detector = Blank_Detector()\n",
      "\n",
      "residuals = blank_detector.run(sig1)"
     ],
     "language": "python",
     "metadata": {},
     "outputs": [
      {
       "output_type": "stream",
       "stream": "stdout",
       "text": [
        "Residuals: ['mean_']\n",
        "Stopping rule not triggered.\n"
       ]
      },
      {
       "metadata": {},
       "output_type": "display_data",
       "png": "[encoded data removed]",
       "text": [
        "<matplotlib.figure.Figure at 0x32f3610>"
       ]
      }
     ],
     "prompt_number": 12
    },
    {
     "cell_type": "markdown",
     "metadata": {},
     "source": [
      "We have a residual, now, called `mean_`. \n",
      "\n",
      "We're also retaining a new attribute, `total_val` which we use to calculate the mean. Our scaffolding code only plots attributes ending with underscore (`_`), which we use as a way of marking our residuals."
     ]
    },
    {
     "cell_type": "raw",
     "metadata": {},
     "source": [
      "(Note that no stopping rule was triggered, because we haven't created a stopping rule yet.)"
     ]
    },
    {
     "cell_type": "markdown",
     "metadata": {},
     "source": [
      "## Finally, let's start experimenting\n",
      "\n",
      "Now what we got all that scaffolding, we can get to the good stuff and start experimenting with signals and change detectors. "
     ]
    },
    {
     "cell_type": "code",
     "collapsed": false,
     "input": [],
     "language": "python",
     "metadata": {},
     "outputs": []
    }
   ],
   "metadata": {}
  }
 ]
}