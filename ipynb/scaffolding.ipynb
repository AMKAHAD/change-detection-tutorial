{
 "metadata": {
  "name": "",
  "signature": "sha256:7c7daf5a667a6ef7e4d3d86c0db84c7cf661f035bee3acaaddd0085dd6609439"
 },
 "nbformat": 3,
 "nbformat_minor": 0,
 "worksheets": [
  {
   "cells": [
    {
     "cell_type": "markdown",
     "metadata": {},
     "source": [
      "# Change Detection Tutorial\n",
      "\n",
      "    @author: amanahuja@gmail.com\n",
      "    source: github.com/amanahuja/change-detection-turtorial\n"
     ]
    },
    {
     "cell_type": "code",
     "collapsed": false,
     "input": [
      "# Modified Stylesheet for notebook.\n",
      "from IPython.core.display import HTML\n",
      "def css_styling():\n",
      "    styles = open(\"custom.css\", \"r\").read()\n",
      "    return HTML(styles)\n",
      "\n",
      "css_styling()"
     ],
     "language": "python",
     "metadata": {},
     "outputs": [
      {
       "html": [
        "<style>    div.cell{        max-width:750px;        margin-left:auto;        margin-right:auto;    }    h1 {        text-align:center;        font-familly:\"Charis SIL\", serif;    }</style>\n"
       ],
       "metadata": {},
       "output_type": "pyout",
       "prompt_number": 1,
       "text": [
        "<IPython.core.display.HTML at 0x3c65210>"
       ]
      }
     ],
     "prompt_number": 1
    },
    {
     "cell_type": "markdown",
     "metadata": {},
     "source": [
      "## Section 0: Some Scaffolding\n",
      "\n",
      "Overview\n",
      "\n",
      " * Offline vs. Online change detection\n",
      " * We write some utility functions that allow us to \n",
      "  * pass signals to a change detection algorithm in \"online\" simulation mode\n",
      "  * calculate residuals after receiving each new data point\n",
      "  * Test the stopping rules at each iteration\n",
      "  * Plot results and output conveniently.\n"
     ]
    },
    {
     "cell_type": "markdown",
     "metadata": {},
     "source": [
      "### Aside: Offline vs. Online algorithms\n",
      "\n",
      "An \"offline\" change detection algorithm is one in which we are given the entire signal and are attempting to \"look back\" and recognize where the change occcured. \n",
      "\n",
      "An \"online\" algorithm is quite different, in which we imagine our signal as \"streaming into\" our detector, and at any given moment we only have knowledge of the most recent data point and whatever information the detector has retain about the signal. See wikipedia on Sequential Analysis http://en.wikipedia.org/wiki/Sequential_analysis\n",
      "\n",
      "My interest is in the latter \"online\" class of algorithms. That means I want to make sure data points are passed to the algorithm one by one, and that I am interested in \n",
      "\n",
      "  1. detecting a change, \n",
      "  2. in deciding whether a change is significant enough to trigger an alert, and \n",
      "  3. in how quickly I can detect the change after it occurs. \n",
      "\n",
      "I also want to make sure that I am not cheating when I run my experiments. \n",
      "\n",
      "To do all this, it is helpful to write some code that helps me simulate the online streaming scenario of interest. "
     ]
    },
    {
     "cell_type": "code",
     "collapsed": false,
     "input": [
      "import matplotlib.pyplot as plt\n",
      "import numpy as np"
     ],
     "language": "python",
     "metadata": {},
     "outputs": [],
     "prompt_number": 1
    },
    {
     "cell_type": "code",
     "collapsed": false,
     "input": [
      "from collections import defaultdict\n",
      "np.random.seed(seed=111111)\n",
      "np.set_printoptions(precision=3, suppress=True)"
     ],
     "language": "python",
     "metadata": {},
     "outputs": [],
     "prompt_number": 2
    },
    {
     "cell_type": "markdown",
     "metadata": {},
     "source": [
      "## ... thus we need some \"scaffolding\"\n",
      "\n",
      "This notebook is an optional part of the tutorial, in which we create a class and some methods in order to \"simulate\" streaming data. \n",
      "\n",
      "The scenario that we are simulating: \n",
      "\n",
      " * each data point is passed to the algorithm one by one\n",
      " * the algorithm performs its analysis on that new information along with any stored historical information\n",
      " * the algorithm decides after each data point whether or not a change has been detected. \n",
      "\n",
      "With these tools, which we will utilize in the tutorial, we can experiment with online algorithms and, more specifically, online change detection algorithms. "
     ]
    },
    {
     "cell_type": "markdown",
     "metadata": {},
     "source": [
      "## Pseudocode\n",
      "\n",
      "Thinking this through, here's what I came up with, in pseudocode"
     ]
    },
    {
     "cell_type": "raw",
     "metadata": {},
     "source": [
      "An online simulation function might look something like this: \n",
      "----------------------\n",
      "(pseudocode)\n",
      "\n",
      "function online_simulator(signal, cd_algorithm, stopping rules): \n",
      "  \n",
      "  Iterate through the signal, passing data points to the algorithm. FOR EACH data point\n",
      "    Calculate residuals\n",
      "    Compare residuals with the stopping rule(s)\n",
      "    IF the stopping rule is triggered\n",
      "      RETURN (True, residuals, stopping_rule_triggered)\n",
      "\n",
      "  At the end of the signal, IF the stopping rule is not triggered\n",
      "     THEN return (False, residuals)\n"
     ]
    },
    {
     "cell_type": "raw",
     "metadata": {},
     "source": [
      "What about the change detection algorithm, what does that look like? \n",
      "\n",
      "Essentially the algorithm is just calculating residuals and updating them for each new value passed. \n",
      "-------------------------\n",
      "(pseudocode)\n",
      "\n",
      "class cd_algorithm:\n",
      "   Initialization\n",
      "      initialize residuals\n",
      "\n",
      "   METHOD step FOR EACH new_signal_value\n",
      "      Update residuals\n",
      "      Check if Stopping Rules have been triggered\n",
      "      IF rules_triggered\n",
      "        RETURN (True, residuals, signal_size, stopping_rule_triggered)\n",
      "      \n",
      "----\n",
      "actually we'll make that step method into a generator, so we can yield values for each new value of the signal."
     ]
    },
    {
     "cell_type": "markdown",
     "metadata": {},
     "source": [
      "## Let's see how this works\n",
      "\n",
      "The above concepts have been implemented in this repo \n",
      "  src/change_detector.py"
     ]
    },
    {
     "cell_type": "code",
     "collapsed": false,
     "input": [
      "import sys; sys.path.append('../src/')\n",
      "import change_detector  # change this once we don't need reload()"
     ],
     "language": "python",
     "metadata": {},
     "outputs": [],
     "prompt_number": 163
    },
    {
     "cell_type": "code",
     "collapsed": false,
     "input": [
      "reload(change_detector)"
     ],
     "language": "python",
     "metadata": {},
     "outputs": [
      {
       "metadata": {},
       "output_type": "pyout",
       "prompt_number": 177,
       "text": [
        "<module 'change_detector' from '../src/change_detector.pyc'>"
       ]
      }
     ],
     "prompt_number": 177
    },
    {
     "cell_type": "code",
     "collapsed": false,
     "input": [
      "# Initialize change detector\n",
      "\n",
      "test_detector = change_detector.ChangeDetector()\n",
      "print test_detector"
     ],
     "language": "python",
     "metadata": {},
     "outputs": [
      {
       "output_type": "stream",
       "stream": "stdout",
       "text": [
        "Change Detector(triggered=False, residuals={'approx_mean_': nan})\n"
       ]
      }
     ],
     "prompt_number": 178
    },
    {
     "cell_type": "code",
     "collapsed": false,
     "input": [
      "# Add one point to the change_detector\n",
      "print next(test_detector.step(10))\n",
      "\n",
      "#And more\n",
      "print next(test_detector.step(10))\n",
      "print next(test_detector.step(0))\n",
      "print next(test_detector.step(0))"
     ],
     "language": "python",
     "metadata": {},
     "outputs": [
      {
       "output_type": "stream",
       "stream": "stdout",
       "text": [
        "(False, {'approx_mean_': 10})\n",
        "(False, {'approx_mean_': 10})\n",
        "(False, {'approx_mean_': 6})\n",
        "(False, {'approx_mean_': 5})\n"
       ]
      }
     ],
     "prompt_number": 179
    },
    {
     "cell_type": "code",
     "collapsed": false,
     "input": [
      "# When we sent a signal to `online_simulator()` we are \n",
      "#   actually stepping through the new points one by one. \n",
      "\n",
      "signal = np.random.randint(10, size=10)\n",
      "print \"Signal: {}\".format(signal)\n",
      "\n",
      "# reset\n",
      "test_detector = change_detector.ChangeDetector()\n",
      "\n",
      "# pass the signal the online_simulator\n",
      "test_detector.run(signal)"
     ],
     "language": "python",
     "metadata": {},
     "outputs": [
      {
       "output_type": "stream",
       "stream": "stdout",
       "text": [
        "Signal: [4 8 3 4 0 8 5 4 9 9]\n",
        "Residuals: ['approx_mean_']\n",
        "Stopping rule not triggered.\n"
       ]
      },
      {
       "metadata": {},
       "output_type": "pyout",
       "prompt_number": 180,
       "text": [
        "False"
       ]
      },
      {
       "metadata": {},
       "output_type": "display_data",
       "png": "[encoded data removed]",
       "text": [
        "<matplotlib.figure.Figure at 0x4e46690>"
       ]
      }
     ],
     "prompt_number": 180
    },
    {
     "cell_type": "raw",
     "metadata": {},
     "source": [
      "(Note that the stopping rule will not be triggered, because we haven't created a stopping rule yet.)"
     ]
    },
    {
     "cell_type": "markdown",
     "metadata": {},
     "source": [
      "In the above plots we can see ALL the signal values and the residual at each step. But this is just for visualization purposes. These are not retained by the change detector. \n",
      "\n",
      "This is what is retained: "
     ]
    },
    {
     "cell_type": "code",
     "collapsed": false,
     "input": [
      "print \"This is what is retained:\"\n",
      "\n",
      "print \"\\nResiduals:\"\n",
      "print test_detector.residuals_\n",
      "\n",
      "print \"\\nEverything:\"\n",
      "print test_detector.__dict__"
     ],
     "language": "python",
     "metadata": {},
     "outputs": [
      {
       "output_type": "stream",
       "stream": "stdout",
       "text": [
        "This is what is retained:\n",
        "\n",
        "Residuals:\n",
        "{'approx_mean_': 5}\n",
        "\n",
        "Everything:\n",
        "{'rules_triggered': False, 'signal_size': 10, 'approx_mean_': 5, 'total_val': 54}\n"
       ]
      }
     ],
     "prompt_number": 181
    },
    {
     "cell_type": "markdown",
     "metadata": {},
     "source": [
      "## Demo with blank change detector"
     ]
    },
    {
     "cell_type": "code",
     "collapsed": false,
     "input": [
      "from change_detector import ChangeDetector"
     ],
     "language": "python",
     "metadata": {},
     "outputs": [],
     "prompt_number": 182
    },
    {
     "cell_type": "code",
     "collapsed": false,
     "input": [
      "\"\"\"\n",
      "Uncomment the following code to output the demo.\n",
      "\"\"\"\n",
      "\n",
      "sig1 = np.ones(1000)\n",
      "sig1[:500] = sig1[:500] * 50\n",
      "sig1[500:] = sig1[500:] * 40\n",
      "\n",
      "blank_detector = ChangeDetector()\n",
      "blank_detector.run(sig1)\n"
     ],
     "language": "python",
     "metadata": {},
     "outputs": [
      {
       "output_type": "stream",
       "stream": "stdout",
       "text": [
        "Residuals: ['approx_mean_']\n",
        "Stopping rule not triggered.\n"
       ]
      },
      {
       "metadata": {},
       "output_type": "pyout",
       "prompt_number": 183,
       "text": [
        "False"
       ]
      },
      {
       "metadata": {},
       "output_type": "display_data",
       "png": "[encoded data removed]",
       "text": [
        "<matplotlib.figure.Figure at 0x3f47350>"
       ]
      }
     ],
     "prompt_number": 183
    },
    {
     "cell_type": "markdown",
     "metadata": {},
     "source": [
      "# Demo with basic change detector\n",
      "\n",
      "In the next section we'll build this change detector. For now, notice\n",
      "how to overide the ChangeDetector class, and that we have convenience functions to trigger and plot. "
     ]
    },
    {
     "cell_type": "code",
     "collapsed": false,
     "input": [
      "class static_mean_detector(ChangeDetector):\n",
      "    \"\"\"\n",
      "    A trivial change detection algorithm using static mean.\n",
      "    \"\"\"\n",
      "    \n",
      "    def __init__(self, threshold=0.05): \n",
      "        self.rules_triggered = False\n",
      "        #hyper-parameter(s)\n",
      "        self.threshold = threshold\n",
      "            \n",
      "        #Interim and calculated values\n",
      "        self.signal_size = 0\n",
      "        self.total_val = 0\n",
      "        \n",
      "        #... and residuals\n",
      "        self.diff_ = np.nan\n",
      "        self.mean_ = np.nan\n",
      "    \n",
      "    def update_residuals(self, new_signal_value): \n",
      "        #Update residuals \n",
      "        self.signal_size += 1\n",
      "        self.total_val += new_signal_value\n",
      "        self.mean_ = self.total_val / self.signal_size\n",
      "        self.diff_ = np.absolute(self.mean_ - new_signal_value)\n",
      "    \n",
      "    def check_stopping_rules(self, new_signal_value): \n",
      "        threshold_level = self.mean_ * self.threshold\n",
      "        \n",
      "        if self.diff_ > threshold_level:\n",
      "            self.rules_triggered = True\n",
      "        return self.rules_triggered"
     ],
     "language": "python",
     "metadata": {},
     "outputs": [],
     "prompt_number": 184
    },
    {
     "cell_type": "code",
     "collapsed": false,
     "input": [
      "test_detector = static_mean_detector()\n",
      "\n",
      "test_detector.run(sig1)"
     ],
     "language": "python",
     "metadata": {},
     "outputs": [
      {
       "output_type": "stream",
       "stream": "stdout",
       "text": [
        "Residuals: ['mean_', 'diff_']\n",
        "Change detected. Stopping Rule triggered at 1000.\n",
        "\n"
       ]
      },
      {
       "metadata": {},
       "output_type": "pyout",
       "prompt_number": 185,
       "text": [
        "True"
       ]
      },
      {
       "metadata": {},
       "output_type": "display_data",
       "png": "[encoded data removed]",
       "text": [
        "<matplotlib.figure.Figure at 0x4e0dfd0>"
       ]
      }
     ],
     "prompt_number": 185
    },
    {
     "cell_type": "code",
     "collapsed": false,
     "input": [
      "%debug"
     ],
     "language": "python",
     "metadata": {},
     "outputs": [
      {
       "output_type": "stream",
       "stream": "stdout",
       "text": [
        "> \u001b[1;32m/home/aman/Documents/Projects/change_detection/change-detection-tutorial/src/change_detector.py\u001b[0m(151)\u001b[0;36mprint_sim_results\u001b[1;34m()\u001b[0m\n",
        "\u001b[1;32m    150 \u001b[1;33m            \u001b[1;31m# Quick sanity check\u001b[0m\u001b[1;33m\u001b[0m\u001b[1;33m\u001b[0m\u001b[0m\n",
        "\u001b[0m\u001b[1;32m--> 151 \u001b[1;33m            \u001b[1;32massert\u001b[0m \u001b[1;33m(\u001b[0m\u001b[0mstop_point\u001b[0m \u001b[1;33m>\u001b[0m \u001b[1;36m0\u001b[0m\u001b[1;33m)\u001b[0m \u001b[1;33m&\u001b[0m \u001b[1;33m(\u001b[0m\u001b[0mstop_point\u001b[0m \u001b[1;33m<\u001b[0m \u001b[0mlen\u001b[0m\u001b[1;33m(\u001b[0m\u001b[0msignal\u001b[0m\u001b[1;33m)\u001b[0m\u001b[1;33m)\u001b[0m\u001b[1;33m\u001b[0m\u001b[0m\n",
        "\u001b[0m\u001b[1;32m    152 \u001b[1;33m            print \"Change detected. Stopping Rule triggered at {}.\\n\".format(\n",
        "\u001b[0m\n"
       ]
      },
      {
       "name": "stdout",
       "output_type": "stream",
       "stream": "stdout",
       "text": [
        "ipdb> stop_point\n"
       ]
      },
      {
       "output_type": "stream",
       "stream": "stdout",
       "text": [
        "1000\n"
       ]
      },
      {
       "name": "stdout",
       "output_type": "stream",
       "stream": "stdout",
       "text": [
        "ipdb> len(signal)\n"
       ]
      },
      {
       "output_type": "stream",
       "stream": "stdout",
       "text": [
        "1000\n"
       ]
      },
      {
       "name": "stdout",
       "output_type": "stream",
       "stream": "stdout",
       "text": [
        "ipdb> q\n"
       ]
      }
     ],
     "prompt_number": 173
    },
    {
     "cell_type": "markdown",
     "metadata": {},
     "source": [
      "\n",
      "### Convert to ipynb\n",
      "\n",
      "    (We no longer need to do this. OMIT this section. )\n",
      "    \n",
      "Convert this ipynb to python file so we can import it from other notebooks in the tutorial"
     ]
    },
    {
     "cell_type": "code",
     "collapsed": false,
     "input": [
      "# if __name__ == \"__main__\": \n",
      "#    !ipython nbconvert --to python scaffolding.ipynb --output='../python_code/scaffolding'\n",
      "\n",
      "# !cat ../python_code/scaffolding.py"
     ],
     "language": "python",
     "metadata": {},
     "outputs": [],
     "prompt_number": 145
    },
    {
     "cell_type": "code",
     "collapsed": false,
     "input": [],
     "language": "python",
     "metadata": {},
     "outputs": []
    }
   ],
   "metadata": {}
  }
 ]
}