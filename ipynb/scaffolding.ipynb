{
 "metadata": {
  "name": ""
 },
 "nbformat": 3,
 "nbformat_minor": 0,
 "worksheets": [
  {
   "cells": [
    {
     "cell_type": "code",
     "collapsed": false,
     "input": [
      "# Modified Stylesheet for notebook.\n",
      "from IPython.core.display import HTML\n",
      "def css_styling():\n",
      "    styles = open(\"custom.css\", \"r\").read()\n",
      "    return HTML(styles)\n",
      "\n",
      "css_styling()"
     ],
     "language": "python",
     "metadata": {},
     "outputs": [
      {
       "html": [
        "<style>    div.cell{        max-width:750px;        margin-left:auto;        margin-right:auto;    }    h1 {        text-align:center;        font-familly:\"Charis SIL\", serif;    }</style>\n"
       ],
       "metadata": {},
       "output_type": "pyout",
       "prompt_number": 1,
       "text": [
        "<IPython.core.display.HTML at 0x2e48210>"
       ]
      }
     ],
     "prompt_number": 1
    },
    {
     "cell_type": "markdown",
     "metadata": {},
     "source": [
      "#Change Detection Tutorial\n",
      "##Some Scaffolding\n",
      "\n",
      "\n",
      " * Offline vs. Online change detection\n",
      " * We write some utility functions that allow us to \n",
      "  * pass signals to a change detection algorithm in \"online\" simulation mode\n",
      "  * calculate residuals after receiving each new data point\n",
      "  * Test the stopping rules at each iteration\n",
      "  * Plot results and output conveniently.\n"
     ]
    },
    {
     "cell_type": "code",
     "collapsed": false,
     "input": [
      "%matplotlib\n",
      "import matplotlib.pyplot as plt\n",
      "import numpy as np"
     ],
     "language": "python",
     "metadata": {},
     "outputs": [
      {
       "output_type": "stream",
       "stream": "stdout",
       "text": [
        "Using matplotlib backend: module://IPython.kernel.zmq.pylab.backend_inline\n"
       ]
      }
     ],
     "prompt_number": 4
    },
    {
     "cell_type": "code",
     "collapsed": false,
     "input": [
      "from collections import defaultdict\n",
      "np.random.seed(seed=111111)\n",
      "np.set_printoptions(precision=3, suppress=True)"
     ],
     "language": "python",
     "metadata": {},
     "outputs": [],
     "prompt_number": 5
    },
    {
     "cell_type": "markdown",
     "metadata": {},
     "source": [
      "## Aside: Offline vs. Online algorithms\n",
      "\n",
      "An \"offline\" change detection algorithm is one in which we are given the entire signal and are attempting to \"look back\" and recognize where the change occcured. \n",
      "\n",
      "An \"online\" algorithm is quite different, in which we imagine our signal as \"streaming into\" our detector, and at any given moment we only have knowledge of the most recent data point and whatever information we chose to retain about the history of the signal. \n",
      "\n",
      "Reference: Sequential Analysis http://en.wikipedia.org/wiki/Sequential_analysis\n",
      "\n",
      "My interest is in the latter \"online\" class of algorithms. That means I want to make sure data points are passed to the algorithm one by one, and that I am interested in \n",
      "\n",
      "  1. detecting a change, \n",
      "  2. in deciding whether a change is significant enough to trigger an alert, and \n",
      "  3. in how quickly I can detect the change after it occurs. \n",
      "\n",
      "I also want to make sure that I am not cheating when I run my experiments. \n",
      "\n",
      "To do all this, it is helpful to write some code that helps me simulate the online streaming scenario of interest. "
     ]
    },
    {
     "cell_type": "markdown",
     "metadata": {},
     "source": [
      "## Thus we need some Scaffolding\n",
      "\n",
      "\n",
      "I want to be able to realistically simulate streaming data for my online algorithm experiments. That is, I want to write code that simulates a scenario in which \n",
      "\n",
      " * each data point is passed to the algorithm one by one\n",
      " * the algorithm performs its analysis on that new information along with any stored historical information\n",
      " * the algorithm decides after each data point whether or not a change has been detected. \n",
      "\n",
      "The following code will provide this framework and enable us to run some experiments more conveniently. Feel free to skip this section. \n",
      "\n"
     ]
    },
    {
     "cell_type": "raw",
     "metadata": {},
     "source": [
      "An online simulation function might look something like this: \n",
      "----------------------\n",
      "(pseudocode)\n",
      "\n",
      "function online_simulator(signal, cd_algorithm, stopping rules): \n",
      "  \n",
      "  Iterate through the signal, passing data points to the algorithm. FOR EACH data point\n",
      "    Calculate residuals\n",
      "    Compare residuals with the stopping rule(s)\n",
      "    IF the stopping rule is triggered\n",
      "      RETURN (True, residuals, stopping_rule_triggered)\n",
      "\n",
      "  At the end of the signal, IF the stopping rule is not triggered\n",
      "     THEN return (False, residuals)\n"
     ]
    },
    {
     "cell_type": "raw",
     "metadata": {},
     "source": [
      "I am not clear on 'Essentially the algorithm is just calculating residuals and updating them for each new value passed.'\n",
      " -- [Blaine]"
     ]
    },
    {
     "cell_type": "raw",
     "metadata": {},
     "source": [
      "What about the change detection algorithm, what does that look like? \n",
      "\n",
      "Essentially the algorithm is just calculating residuals and updating them for each new value passed. \n",
      "-------------------------\n",
      "(pseudocode)\n",
      "\n",
      "class cd_algorithm:\n",
      "   Initialization\n",
      "      initialize residuals\n",
      "\n",
      "   METHOD step FOR EACH new_signal_value\n",
      "      Update residuals\n",
      "      Check if Stopping Rules have been triggered\n",
      "      IF rules_triggered\n",
      "        RETURN (True, residuals, signal_size, stopping_rule_triggered)\n",
      "      \n",
      "----\n",
      "actually we'll make that step method into a generator, so we can yield values for each new value of the signal."
     ]
    },
    {
     "cell_type": "code",
     "collapsed": false,
     "input": [
      "def dict_to_arrays(ddict):\n",
      "    \"\"\"\n",
      "    Convenience function used by online simulator to bundle \n",
      "    residuals into a dict before returning\n",
      "    \"\"\"\n",
      "    new_dict = {}\n",
      "    for k,v in ddict.iteritems():\n",
      "        new_dict[k] = np.array(v)\n",
      "    return new_dict"
     ],
     "language": "python",
     "metadata": {},
     "outputs": [],
     "prompt_number": 6
    },
    {
     "cell_type": "code",
     "collapsed": false,
     "input": [
      "def online_simulator(signal, change_detector): \n",
      "    \"\"\"\n",
      "    Function that simulates an online streaming scenario for change detection experiments.\n",
      "    --- \n",
      "    Given a signal and a change detector, this simulator passes one signal data point at a time to\n",
      "    the change detector and processes the results. \n",
      "    \"\"\"\n",
      "    #Initiate\n",
      "    #change_detector = cd_algorithm()\n",
      "    \n",
      "    all_residuals = defaultdict(list)\n",
      "    \n",
      "    xx = 0\n",
      "    #Iterate through the signal, passing data points to the algorithm. \n",
      "    for value in signal: \n",
      "        \n",
      "        #calculate residuals, compare residuals with the stopping rule(s)\n",
      "        check_results = next(change_detector.step(value))\n",
      "        \n",
      "        #process results\n",
      "        rule_triggered    = check_results[0]\n",
      "        res               = check_results[1]\n",
      "        \n",
      "        #store residuals\n",
      "        for k,v in res.iteritems():\n",
      "            all_residuals[k].append(v)\n",
      "              \n",
      "        if rule_triggered == True: \n",
      "            #stopping rule was triggered          \n",
      "            return (True, dict_to_arrays(all_residuals))    \n",
      "\n",
      "    #Rule wasn't triggered by end of signal\n",
      "    return (False, dict_to_arrays(all_residuals))"
     ],
     "language": "python",
     "metadata": {},
     "outputs": [],
     "prompt_number": 7
    },
    {
     "cell_type": "raw",
     "metadata": {},
     "source": [
      "What is the type/object of the signal that is being iterated over?\n",
      "-- [Blaine]"
     ]
    },
    {
     "cell_type": "code",
     "collapsed": false,
     "input": [
      "def run_online_simulation(signal, change_detector, scale=True): \n",
      "    \"\"\"Run simulation and print results\"\"\"\n",
      "    \n",
      "    #Run simulation\n",
      "    results = online_simulator(signal, change_detector)\n",
      "    \n",
      "    #Display results\n",
      "    print_sim_results(signal, results, scale=scale)\n",
      "    \n",
      "    #Return residuals\n",
      "    residuals = results[1]\n",
      "    return residuals"
     ],
     "language": "python",
     "metadata": {},
     "outputs": [],
     "prompt_number": 8
    },
    {
     "cell_type": "code",
     "collapsed": false,
     "input": [
      "class change_detector(object):\n",
      "    \"\"\"\n",
      "    A change detection algorithm. \n",
      "    \n",
      "    The algorithm calculates residuals and updates them for each new value passed. \n",
      "    Residuals are checked against stopping rules at each change, yielding either True or False, accordingly. \n",
      "    \n",
      "    \"\"\"\n",
      "    \n",
      "    def __init__(self): \n",
      "        #Interim and calculated values\n",
      "        self.signal_size = 0\n",
      "        self.total_val = 0\n",
      "        \n",
      "        self.mean_ = np.nan\n",
      "    \n",
      "    def update_residuals(self, new_signal_value): \n",
      "        #Update residuals\n",
      "        self.signal_size += 1\n",
      "        self.total_val += new_signal_value\n",
      "        self.mean_ = self.total_val / self.signal_size\n",
      "    \n",
      "    def _get_residual_dict(self): \n",
      "        \"\"\"create a dictionary of residuals to return. \n",
      "        Inclues all class and instance variables ending in '_'\n",
      "        \"\"\"\n",
      "        residuals_dict = {}\n",
      "        for k,v in self.__dict__.iteritems():\n",
      "            if k.endswith('_'):\n",
      "                residuals_dict[k] = v\n",
      "        \n",
      "        return residuals_dict\n",
      "        \n",
      "    def check_stopping_rules(self, new_signal_value): \n",
      "        rules_triggered = False\n",
      "        \n",
      "        #No rules implemented\n",
      "        pass\n",
      "        \n",
      "        return rules_triggered\n",
      "    \n",
      "    def _step(self, new_signal_value): \n",
      "        \n",
      "        #update residuals\n",
      "        self.update_residuals(new_signal_value)\n",
      "        \n",
      "        ## compare residuals to stopping_rules\n",
      "        rules_triggered = self.check_stopping_rules(new_signal_value)\n",
      "        \n",
      "        if rules_triggered: \n",
      "            yield (True, self._get_residual_dict())\n",
      "        \n",
      "        else: \n",
      "            yield (False, self._get_residual_dict())\n",
      "      \n",
      "    def step(self, new_signal_value):\n",
      "        return self._step(new_signal_value)"
     ],
     "language": "python",
     "metadata": {},
     "outputs": [],
     "prompt_number": 9
    },
    {
     "cell_type": "code",
     "collapsed": false,
     "input": [
      "def print_sim_results(signal, results, **kwargs):\n",
      "    \"\"\"\n",
      "    Another convenience function to print out the results of our experiment. \n",
      "    \"\"\"\n",
      "    #Get results\n",
      "    stopped = results[0]\n",
      "    residuals = results[1]\n",
      "    print \"Residuals: {}\".format([res for res in residuals.viewkeys()])\n",
      "\n",
      "    if stopped: \n",
      "        #length of residuals array tells us when the rule was triggered\n",
      "        stop_point = len(residuals.itervalues().next())\n",
      "          \n",
      "        print \"Change detected. Stopping Rule triggered at {}.\\n\".format(stop_point)\n",
      "        plot_signal_and_residuals(signal, residuals, stop_point, **kwargs)\n",
      "    else: \n",
      "        print \"Stopping rule not triggered.\"\n",
      "        plot_signal_and_residuals(signal, residuals, **kwargs)"
     ],
     "language": "python",
     "metadata": {},
     "outputs": [],
     "prompt_number": 10
    },
    {
     "cell_type": "code",
     "collapsed": false,
     "input": [
      "def plot_signal_and_residuals(signal, residuals=None, stop_point=None, scale=True):\n",
      "    \"\"\"Convenience function to generate plots of the signal and the residuals\"\"\"\n",
      "    \n",
      "    if residuals is None:\n",
      "        plotcount = 1\n",
      "    else: \n",
      "        plotcount = 1 + len(residuals)\n",
      "    \n",
      "    fig, axes = plt.subplots(nrows=plotcount, \n",
      "                             ncols = 1, \n",
      "                             sharex=True,\n",
      "                             figsize=(6, plotcount*3)\n",
      "                             )\n",
      "\n",
      "    #First plot the signal\n",
      "    if plotcount > 1: \n",
      "        ax = axes[0]\n",
      "    elif plotcount == 1: \n",
      "        ax = axes\n",
      "        \n",
      "    ax.plot(signal)\n",
      "    ax.set_title('Signal')\n",
      "    \n",
      "    #Scale signal\n",
      "    ax.set_ylim(signal.min()*.5, signal.max()*1.5)\n",
      "    ax.set_xlim(0, len(signal))\n",
      "        \n",
      "    #Plot a horizontal line where the stop_point is indicated\n",
      "    if stop_point is not None: \n",
      "        assert (stop_point > 0) & (stop_point < len(signal))\n",
      "        ax.vlines(x=stop_point, ymin=0, ymax=ax.get_ylim()[1], \n",
      "                  colors='r', linestyles='dotted')\n",
      "    \n",
      "    #Now plot each residual\n",
      "    if residuals is not None: \n",
      "        for ii, (res_name, res_values) in enumerate(residuals.iteritems()):\n",
      "            ax = axes[ii+1]\n",
      "            ax.plot(res_values)\n",
      "            ax.set_title(\"Residual #{}: {}\".format(ii+1, res_name))\n",
      "            if scale: \n",
      "                ax.set_ylim(res_values.min()*0.5, res_values.max() * 1.5)\n",
      "            ax.vlines(x=stop_point, ymin=0, ymax=ax.get_ylim()[1], \n",
      "                      colors='r', linestyles='dotted')\n",
      "        "
     ],
     "language": "python",
     "metadata": {},
     "outputs": [],
     "prompt_number": 11
    },
    {
     "cell_type": "markdown",
     "metadata": {},
     "source": [
      "## Demo the results"
     ]
    },
    {
     "cell_type": "code",
     "collapsed": false,
     "input": [
      "\"\"\"\n",
      "Uncomment the following code to output the demo.\n",
      "\"\"\"\n",
      "\n",
      "'''\n",
      "sig1 = np.ones(1000)\n",
      "sig1[:500] = sig1[:500] * 50\n",
      "sig1[500:] = sig1[500:] * 40\n",
      "\n",
      "blank_detector = change_detector()\n",
      "residuals = run_online_simulation(sig1, blank_detector)\n",
      "'''"
     ],
     "language": "python",
     "metadata": {},
     "outputs": [
      {
       "metadata": {},
       "output_type": "pyout",
       "prompt_number": 16,
       "text": [
        "'\\nsig1 = np.ones(1000)\\nsig1[:500] = sig1[:500] * 50\\nsig1[500:] = sig1[500:] * 40\\n\\nblank_detector = change_detector()\\nresiduals = run_online_simulation(sig1, blank_detector)\\n'"
       ]
      }
     ],
     "prompt_number": 16
    },
    {
     "cell_type": "raw",
     "metadata": {},
     "source": [
      "(Note that the stopping rule will not be triggered, because we haven't created a stopping rule yet.)"
     ]
    },
    {
     "cell_type": "markdown",
     "metadata": {},
     "source": [
      "### Convert to ipynb\n",
      "Convert this ipynb to python file so we can import it from other notebooks in the tutorial"
     ]
    },
    {
     "cell_type": "code",
     "collapsed": false,
     "input": [
      "if __name__ == \"__main__\": \n",
      "    !ipython nbconvert --to python scaffolding.ipynb"
     ],
     "language": "python",
     "metadata": {},
     "outputs": [
      {
       "output_type": "stream",
       "stream": "stdout",
       "text": [
        "[NbConvertApp] Using existing profile dir: u'/home/aman/.config/ipython/profile_default'\r\n",
        "[NbConvertApp] Converting notebook scaffolding.ipynb to python\r\n",
        "[NbConvertApp] Support files will be in scaffolding_files/\r\n"
       ]
      },
      {
       "output_type": "stream",
       "stream": "stdout",
       "text": [
        "[NbConvertApp] Loaded template python.tpl\r\n"
       ]
      },
      {
       "output_type": "stream",
       "stream": "stdout",
       "text": [
        "[NbConvertApp] Writing 11152 bytes to scaffolding.py\r\n"
       ]
      }
     ],
     "prompt_number": 28
    }
   ],
   "metadata": {}
  }
 ]
}