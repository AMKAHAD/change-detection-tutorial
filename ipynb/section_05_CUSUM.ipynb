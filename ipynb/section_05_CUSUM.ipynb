{
 "metadata": {
  "name": "",
  "signature": "sha256:af1b06d7ec2f217afe50768d952203cf51cc239951633f2cb6159becb6deb629"
 },
 "nbformat": 3,
 "nbformat_minor": 0,
 "worksheets": [
  {
   "cells": [
    {
     "cell_type": "markdown",
     "metadata": {},
     "source": [
      "# Change Detection Tutorial\n",
      "\n",
      "    author: @amanqa\n",
      "    source: github.com/amanahuja/change-detection-tutorial\n"
     ]
    },
    {
     "cell_type": "code",
     "collapsed": false,
     "input": [
      "# Modified Stylesheet for notebook.\n",
      "from IPython.core.display import HTML\n",
      "def css_styling():\n",
      "    styles = open(\"custom.css\", \"r\").read()\n",
      "    return HTML(styles)\n",
      "\n",
      "css_styling()"
     ],
     "language": "python",
     "metadata": {},
     "outputs": [
      {
       "html": [
        "<style>    \n",
        "\n",
        ".input_prompt {\n",
        "    background-color:#dd8855;\n",
        "    -webkit-border-radius: 10px;\n",
        "    -moz-border-radius: 10px;\n",
        "    border-radius: 10px;\n",
        "}\n",
        "    .cell:first-of-type>.input_prompt\n",
        "        {\n",
        "        -webkit-border-radius: 5px 30px 5px 30px;\n",
        "        -moz-border-radius: 5px 30px 5px 30px;\n",
        "        border-radius: 5px 30px 5px 30px;\n",
        "    }\n",
        "\n",
        ".input > .input_prompt{\n",
        "    background-color: #FFF;\n",
        "    }\n",
        "div.cell{        \n",
        "    max-width:750px;        \n",
        "    margin-left:auto;       \n",
        "    margin-right:auto;    \n",
        "    }    \n",
        "\n",
        "h1 {\n",
        "    font-size: 120%;\n",
        "    color: #dd8855;\n",
        "    text-align:center;        \n",
        "    font-familly:\"Charis SIL\", serif;    \n",
        "    }\n",
        "\n",
        "h2 {\n",
        "    font-size: 110%;\n",
        "    color: #dd8855;\n",
        "    }\n",
        "\n",
        "</style>\n"
       ],
       "metadata": {},
       "output_type": "pyout",
       "prompt_number": 1,
       "text": [
        "<IPython.core.display.HTML at 0x25c6190>"
       ]
      }
     ],
     "prompt_number": 1
    },
    {
     "cell_type": "markdown",
     "metadata": {},
     "source": [
      "We would like a change detector that is less sensitive to hyperparameters. \n",
      "\n",
      "Introduce CUSUM."
     ]
    },
    {
     "cell_type": "code",
     "collapsed": false,
     "input": [],
     "language": "python",
     "metadata": {},
     "outputs": []
    },
    {
     "cell_type": "markdown",
     "metadata": {},
     "source": [
      "Return to the Change Detection Tutorial [Table of Contents](https://github.com/amanahuja/change-detection-tutorial)"
     ]
    }
   ],
   "metadata": {}
  }
 ]
}