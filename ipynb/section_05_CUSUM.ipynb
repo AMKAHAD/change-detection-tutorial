{
 "metadata": {
  "name": "",
  "signature": "sha256:6524bb913fbdcccff8fa8993cbceb0495110dbcb35b22c1a93c085f189cf1ee8"
 },
 "nbformat": 3,
 "nbformat_minor": 0,
 "worksheets": [
  {
   "cells": [
    {
     "cell_type": "markdown",
     "metadata": {},
     "source": [
      "# Change Detection Tutorial\n",
      "\n",
      "    author: @amanqa\n",
      "    source: github.com/amanahuja/change-detection-tutorial\n"
     ]
    },
    {
     "cell_type": "code",
     "collapsed": false,
     "input": [
      "# Modified Stylesheet for notebook.\n",
      "from IPython.core.display import HTML\n",
      "def css_styling():\n",
      "    styles = open(\"custom.css\", \"r\").read()\n",
      "    return HTML(styles)\n",
      "\n",
      "css_styling()"
     ],
     "language": "python",
     "metadata": {},
     "outputs": [
      {
       "html": [
        "<style>    div.cell{        max-width:750px;        margin-left:auto;        margin-right:auto;    }    h1 {        text-align:center;        font-familly:\"Charis SIL\", serif;    }</style>\n"
       ],
       "metadata": {},
       "output_type": "pyout",
       "prompt_number": 1,
       "text": [
        "<IPython.core.display.HTML at 0x36b3210>"
       ]
      }
     ],
     "prompt_number": 1
    },
    {
     "cell_type": "markdown",
     "metadata": {},
     "source": [
      "We would like a change detector that is less sensitive to hyperparameters. \n",
      "\n",
      "Introduce CUSUM."
     ]
    },
    {
     "cell_type": "code",
     "collapsed": false,
     "input": [],
     "language": "python",
     "metadata": {},
     "outputs": []
    },
    {
     "cell_type": "markdown",
     "metadata": {},
     "source": [
      "Return to the Change Detection Tutorial [Table of Contents](https://github.com/amanahuja/change-detection-tutorial)"
     ]
    }
   ],
   "metadata": {}
  }
 ]
}