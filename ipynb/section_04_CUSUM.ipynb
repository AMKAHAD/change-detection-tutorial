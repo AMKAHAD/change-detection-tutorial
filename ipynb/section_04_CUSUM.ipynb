{
 "metadata": {
  "name": "",
  "signature": "sha256:75ac72031bfa3f7d7effb1c5acd128972d24a1f60cb6fe0b77c26cff7b85f5fe"
 },
 "nbformat": 3,
 "nbformat_minor": 0,
 "worksheets": [
  {
   "cells": [
    {
     "cell_type": "code",
     "collapsed": false,
     "input": [],
     "language": "python",
     "metadata": {},
     "outputs": []
    },
    {
     "cell_type": "code",
     "collapsed": false,
     "input": [],
     "language": "python",
     "metadata": {},
     "outputs": []
    },
    {
     "cell_type": "code",
     "collapsed": false,
     "input": [],
     "language": "python",
     "metadata": {},
     "outputs": []
    },
    {
     "cell_type": "markdown",
     "metadata": {},
     "source": [
      "We would like a change detector that is less sensitive to hyperparameters. \n",
      "\n",
      "Introduce CUSUM."
     ]
    },
    {
     "cell_type": "code",
     "collapsed": false,
     "input": [],
     "language": "python",
     "metadata": {},
     "outputs": []
    }
   ],
   "metadata": {}
  }
 ]
}