{
 "metadata": {
  "name": "",
  "signature": "sha256:50285f45db80a619b316ec96f7e3d84759fe53af60cb50527c3c1c8c4c1fcf1b"
 },
 "nbformat": 3,
 "nbformat_minor": 0,
 "worksheets": [
  {
   "cells": [
    {
     "cell_type": "markdown",
     "metadata": {},
     "source": [
      "# Change Detection Tutorial\n",
      "\n",
      "    @author: amanahuja@gmail.com\n",
      "    source: github.com/amanahuja/change-detection-turtorial\n"
     ]
    },
    {
     "cell_type": "code",
     "collapsed": false,
     "input": [
      "# Modified Stylesheet for notebook.\n",
      "from IPython.core.display import HTML\n",
      "def css_styling():\n",
      "    styles = open(\"custom.css\", \"r\").read()\n",
      "    return HTML(styles)\n",
      "\n",
      "css_styling()"
     ],
     "language": "python",
     "metadata": {},
     "outputs": [
      {
       "html": [
        "<style>    div.cell{        max-width:750px;        margin-left:auto;        margin-right:auto;    }    h1 {        text-align:center;        font-familly:\"Charis SIL\", serif;    }</style>\n"
       ],
       "metadata": {},
       "output_type": "pyout",
       "prompt_number": 16,
       "text": [
        "<IPython.core.display.HTML at 0x3a2ce10>"
       ]
      }
     ],
     "prompt_number": 16
    },
    {
     "cell_type": "markdown",
     "metadata": {},
     "source": [
      "##Section 02: Noise and Windows\n",
      "\n",
      "Lesson Plan\n",
      "\n",
      " * Streaming statistics\n",
      " * Welford's Method\n",
      " * \n"
     ]
    },
    {
     "cell_type": "code",
     "collapsed": false,
     "input": [
      "import matplotlib.pyplot as plt\n",
      "import numpy as np"
     ],
     "language": "python",
     "metadata": {},
     "outputs": [],
     "prompt_number": 18
    },
    {
     "cell_type": "code",
     "collapsed": false,
     "input": [
      "import sys; sys.path.append('../src/')\n",
      "from change_detector import ChangeDetector"
     ],
     "language": "python",
     "metadata": {},
     "outputs": [],
     "prompt_number": 19
    },
    {
     "cell_type": "markdown",
     "metadata": {},
     "source": [
      "## Aside: Computing statistics in a stream (running variance)"
     ]
    },
    {
     "cell_type": "raw",
     "metadata": {},
     "source": [
      "Welford's Method\n",
      "to compute running mean and running variance/std\n",
      "\n",
      "Welford 1962, see also Knuth, AOCP Vol. 2 page 232\n",
      "http://www.johndcook.com/standard_deviation.html\n"
     ]
    },
    {
     "cell_type": "code",
     "collapsed": false,
     "input": [
      "def welford(vals):\n",
      "    #via https://gist.github.com/alexalemi/2151722\n",
      "    \n",
      "    m = vals[0]\n",
      "    s = 0\n",
      "    for k in range(1, len(vals)):\n",
      "        oldm = m\n",
      "        x = vals[k]\n",
      "        newm = oldm + (x - oldm) / (k + 1)\n",
      "        s = s + (x - newm) * (x - oldm)\n",
      "        m = newm\n",
      "    return s / (k+1)"
     ],
     "language": "python",
     "metadata": {},
     "outputs": [],
     "prompt_number": 20
    },
    {
     "cell_type": "code",
     "collapsed": false,
     "input": [
      "\n",
      "#Testing\n",
      "seq = np.random.randn(100)\n",
      "print welford(seq)\n",
      "print np.var(seq)"
     ],
     "language": "python",
     "metadata": {},
     "outputs": [
      {
       "output_type": "stream",
       "stream": "stdout",
       "text": [
        "1.06686860513\n",
        "1.06686860513\n"
       ]
      }
     ],
     "prompt_number": 21
    },
    {
     "cell_type": "code",
     "collapsed": false,
     "input": [
      "class Welford_Detector(ChangeDetector):\n",
      "    \"\"\"\n",
      "    Testing Welford's algorithm\n",
      "    implemented like our other change detector\n",
      "    \"\"\"\n",
      "    \n",
      "    def __init__(self): \n",
      "            \n",
      "        #Interim and calculated values\n",
      "        self.k = 0    #k is the signal_size\n",
      "\n",
      "        #For Welford's \n",
      "        self.mean_ = 0.0     \n",
      "        self.s = 0.0      # var = s / (k + 1)\n",
      "                \n",
      "    def update_residuals(self, new_signal_value): \n",
      "        #Update residuals \n",
      "        \n",
      "        #Welford's. \n",
      "        oldm = self.mean_\n",
      "        x = new_signal_value\n",
      "        newm = oldm + (x - oldm) / (self.k + 1)\n",
      "        self.s = self.s + (x - newm) * (x - oldm)\n",
      "        self.mean_ = newm\n",
      "        \n",
      "        self.var_ = self.s / (self.k+1)\n",
      "        \n",
      "        self.k += 1\n",
      "        "
     ],
     "language": "python",
     "metadata": {},
     "outputs": [],
     "prompt_number": 24
    },
    {
     "cell_type": "code",
     "collapsed": false,
     "input": [
      "welford_cd = Welford_CD()\n",
      "residuals = run_online_simulation(\n",
      "                sig2a, \n",
      "                welford,\n",
      "                scale=False,\n",
      "                )"
     ],
     "language": "python",
     "metadata": {},
     "outputs": [
      {
       "ename": "NameError",
       "evalue": "name 'run_online_simulation' is not defined",
       "output_type": "pyerr",
       "traceback": [
        "\u001b[1;31m---------------------------------------------------------------------------\u001b[0m\n\u001b[1;31mNameError\u001b[0m                                 Traceback (most recent call last)",
        "\u001b[1;32m<ipython-input-26-a7144b838a0b>\u001b[0m in \u001b[0;36m<module>\u001b[1;34m()\u001b[0m\n\u001b[0;32m      1\u001b[0m \u001b[0mwelford_cd\u001b[0m \u001b[1;33m=\u001b[0m \u001b[0mWelford_CD\u001b[0m\u001b[1;33m(\u001b[0m\u001b[1;33m)\u001b[0m\u001b[1;33m\u001b[0m\u001b[0m\n\u001b[1;32m----> 2\u001b[1;33m residuals = run_online_simulation(\n\u001b[0m\u001b[0;32m      3\u001b[0m                 \u001b[0msig2a\u001b[0m\u001b[1;33m,\u001b[0m\u001b[1;33m\u001b[0m\u001b[0m\n\u001b[0;32m      4\u001b[0m                 \u001b[0mwelford\u001b[0m\u001b[1;33m,\u001b[0m\u001b[1;33m\u001b[0m\u001b[0m\n\u001b[0;32m      5\u001b[0m                 \u001b[0mscale\u001b[0m\u001b[1;33m=\u001b[0m\u001b[0mFalse\u001b[0m\u001b[1;33m,\u001b[0m\u001b[1;33m\u001b[0m\u001b[0m\n",
        "\u001b[1;31mNameError\u001b[0m: name 'run_online_simulation' is not defined"
       ]
      }
     ],
     "prompt_number": 26
    },
    {
     "cell_type": "code",
     "collapsed": false,
     "input": [
      "\n",
      "# Compare to test\n",
      "\n",
      "print \"{:<40} : {:>}\".format(\n",
      "        \"Variance via Welford's algorithm\", \n",
      "        residuals['var_'][-1]  #(the last value is the variance after the entire signal has been processed.)\n",
      "        )\n",
      "\n",
      "print \"{:<40} : {:>}\".format(\n",
      "        \"Variance via Numpy\", \n",
      "        np.var(sig2a),\n",
      "        )\n",
      "\n",
      "print \"{:<40} : {:>}\".format(\n",
      "        \"Mean via Welford's algorithm\", \n",
      "        residuals['mean_'][-1]  #(the last value is the variance after the entire signal has been processed.)\n",
      "        )\n",
      "\n",
      "print \"{:<40} : {:>}\".format(\n",
      "        \"Mean via Numpy\", \n",
      "        np.mean(sig2a),\n",
      "        )"
     ],
     "language": "python",
     "metadata": {},
     "outputs": [
      {
       "ename": "NameError",
       "evalue": "name 'residuals' is not defined",
       "output_type": "pyerr",
       "traceback": [
        "\u001b[1;31m---------------------------------------------------------------------------\u001b[0m\n\u001b[1;31mNameError\u001b[0m                                 Traceback (most recent call last)",
        "\u001b[1;32m<ipython-input-14-b80dafa56051>\u001b[0m in \u001b[0;36m<module>\u001b[1;34m()\u001b[0m\n\u001b[0;32m      4\u001b[0m print \"{:<40} : {:>}\".format(\n\u001b[0;32m      5\u001b[0m         \u001b[1;34m\"Variance via Welford's algorithm\"\u001b[0m\u001b[1;33m,\u001b[0m\u001b[1;33m\u001b[0m\u001b[0m\n\u001b[1;32m----> 6\u001b[1;33m         \u001b[0mresiduals\u001b[0m\u001b[1;33m[\u001b[0m\u001b[1;34m'var_'\u001b[0m\u001b[1;33m]\u001b[0m\u001b[1;33m[\u001b[0m\u001b[1;33m-\u001b[0m\u001b[1;36m1\u001b[0m\u001b[1;33m]\u001b[0m  \u001b[1;31m#(the last value is the variance after the entire signal has been processed.)\u001b[0m\u001b[1;33m\u001b[0m\u001b[0m\n\u001b[0m\u001b[0;32m      7\u001b[0m         )\n\u001b[0;32m      8\u001b[0m \u001b[1;33m\u001b[0m\u001b[0m\n",
        "\u001b[1;31mNameError\u001b[0m: name 'residuals' is not defined"
       ]
      }
     ],
     "prompt_number": 14
    },
    {
     "cell_type": "code",
     "collapsed": false,
     "input": [
      "\n",
      "welford.__dict__"
     ],
     "language": "python",
     "metadata": {},
     "outputs": [
      {
       "metadata": {},
       "output_type": "pyout",
       "prompt_number": 8,
       "text": [
        "{}"
       ]
      }
     ],
     "prompt_number": 8
    },
    {
     "cell_type": "raw",
     "metadata": {},
     "source": [
      "In this way we can collect decent statistics on a stream of data without having to store the entire history. In this way we can collect decent statistics on a stream of data without having to store the entire history. "
     ]
    },
    {
     "cell_type": "code",
     "collapsed": false,
     "input": [],
     "language": "python",
     "metadata": {},
     "outputs": []
    }
   ],
   "metadata": {}
  }
 ]
}